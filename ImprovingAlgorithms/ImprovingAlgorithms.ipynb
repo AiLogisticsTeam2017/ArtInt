{
 "cells": [
  {
   "cell_type": "markdown",
   "metadata": {},
   "source": [
    "# This is where we use the Algorithms"
   ]
  },
  {
   "cell_type": "code",
   "execution_count": 1,
   "metadata": {
    "collapsed": false,
    "scrolled": true
   },
   "outputs": [
    {
     "name": "stderr",
     "output_type": "stream",
     "text": [
      "C:\\Users\\raslindn\\AppData\\Local\\Continuum\\Anaconda3\\lib\\site-packages\\sklearn\\cross_validation.py:44: DeprecationWarning: This module was deprecated in version 0.18 in favor of the model_selection module into which all the refactored classes and functions are moved. Also note that the interface of the new CV iterators are different from that of this module. This module will be removed in 0.20.\n",
      "  \"This module will be removed in 0.20.\", DeprecationWarning)\n"
     ]
    }
   ],
   "source": [
    "# TODO: Write a guide on what you need, https://anaconda.org/anaconda/gensim <---- Gensim\n",
    "#       What does the error message mean?\n",
    "\n",
    "import pandas as pd              # pandas is a dataframe library\n",
    "import matplotlib.pyplot as plt  # matplotlib.pyplot plots data\n",
    "import numpy as np               # numpy provides N-dim object support\n",
    "\n",
    "# do ploting inline instead of in a separate window\n",
    "%matplotlib inline\n",
    "\n",
    "### Algorithms ###\n",
    "from sklearn.naive_bayes import GaussianNB\n",
    "from sklearn.linear_model import LogisticRegression\n",
    "from sklearn.linear_model import LogisticRegressionCV\n",
    "from sklearn.ensemble import RandomForestClassifier\n",
    "\n",
    "from sklearn.cross_validation import train_test_split # Used to split data into Training set and Test Set"
   ]
  },
  {
   "cell_type": "markdown",
   "metadata": {},
   "source": [
    "## Loading Files"
   ]
  },
  {
   "cell_type": "code",
   "execution_count": 2,
   "metadata": {
    "collapsed": true
   },
   "outputs": [],
   "source": [
    "# Load the post data\n",
    "#df = pd.read_csv(\"../alteredData.csv\")\n",
    "#df = pd.read_csv(\"../alteredData100k.csv\")\n",
    "df = pd.read_csv(\"../alteredData1M.csv\")\n",
    "#df1 = pd.read_csv(\"../data.csv\")"
   ]
  },
  {
   "cell_type": "markdown",
   "metadata": {},
   "source": [
    "## Preprocessing with a Custom Hot One Encoding"
   ]
  },
  {
   "cell_type": "code",
   "execution_count": 3,
   "metadata": {
    "collapsed": false,
    "scrolled": false
   },
   "outputs": [],
   "source": [
    "# http://stackoverflow.com/questions/37292872/how-can-i-one-hot-encode-in-python <--- This is dank stuff\n",
    "\n",
    "#TODO:\n",
    "# Concider changing this to Word Embedding instead (Gensim)\n",
    "# Concider to add new information instead of re-reading everything\n",
    "# Should be saved into three different file?\n",
    "\n",
    "#from sklearn.feature_extraction import DictVectorizer\n",
    "#dictVector = DictVectorizer(sparse = False, sort = False)\n",
    "#qualitative_features = ['Name', 'Street', 'City']\n",
    "#X_qual = dictVector.fit_transform(df[qualitative_features].to_dict('records'))\n",
    "# Print the List\n",
    "#dictVector.vocabulary_"
   ]
  },
  {
   "cell_type": "code",
   "execution_count": 4,
   "metadata": {
    "collapsed": false
   },
   "outputs": [],
   "source": [
    "# Sanity Check\n",
    "#df.ix[[0, 33, 39, 55]]"
   ]
  },
  {
   "cell_type": "code",
   "execution_count": 5,
   "metadata": {
    "collapsed": false
   },
   "outputs": [],
   "source": [
    "# Debug #\n",
    "#df.loc[df['Name'] == 7]\n",
    "#df1.head()"
   ]
  },
  {
   "cell_type": "code",
   "execution_count": 6,
   "metadata": {
    "collapsed": false
   },
   "outputs": [],
   "source": [
    "#df.head()"
   ]
  },
  {
   "cell_type": "code",
   "execution_count": 7,
   "metadata": {
    "collapsed": false,
    "scrolled": false
   },
   "outputs": [
    {
     "data": {
      "text/html": [
       "<div>\n",
       "<table border=\"1\" class=\"dataframe\">\n",
       "  <thead>\n",
       "    <tr style=\"text-align: right;\">\n",
       "      <th></th>\n",
       "      <th>Name</th>\n",
       "      <th>SurName</th>\n",
       "      <th>Street</th>\n",
       "      <th>StreetNr</th>\n",
       "      <th>ZipCode</th>\n",
       "      <th>City</th>\n",
       "      <th>Legitimate</th>\n",
       "    </tr>\n",
       "  </thead>\n",
       "  <tbody>\n",
       "    <tr>\n",
       "      <th>66</th>\n",
       "      <td>Fatimah</td>\n",
       "      <td>Lonon</td>\n",
       "      <td>missing</td>\n",
       "      <td>20</td>\n",
       "      <td>60136.0</td>\n",
       "      <td>missing</td>\n",
       "      <td>False</td>\n",
       "    </tr>\n",
       "    <tr>\n",
       "      <th>238</th>\n",
       "      <td>Bianca</td>\n",
       "      <td>missing</td>\n",
       "      <td>Mineralgatan</td>\n",
       "      <td>20</td>\n",
       "      <td>3915.0</td>\n",
       "      <td>Kalmar</td>\n",
       "      <td>False</td>\n",
       "    </tr>\n",
       "    <tr>\n",
       "      <th>369</th>\n",
       "      <td>Carolin</td>\n",
       "      <td>Wiechmann</td>\n",
       "      <td>Adlerberthsgatan</td>\n",
       "      <td>20</td>\n",
       "      <td>21123.0</td>\n",
       "      <td>Malmo</td>\n",
       "      <td>True</td>\n",
       "    </tr>\n",
       "    <tr>\n",
       "      <th>587</th>\n",
       "      <td>Pearlene</td>\n",
       "      <td>Robison</td>\n",
       "      <td>Bondegatan</td>\n",
       "      <td>20</td>\n",
       "      <td>41136.0</td>\n",
       "      <td>Goteborg</td>\n",
       "      <td>True</td>\n",
       "    </tr>\n",
       "    <tr>\n",
       "      <th>764</th>\n",
       "      <td>Joleen</td>\n",
       "      <td>Bright</td>\n",
       "      <td>Ekorrstigen</td>\n",
       "      <td>20</td>\n",
       "      <td>21146.0</td>\n",
       "      <td>Malmo</td>\n",
       "      <td>True</td>\n",
       "    </tr>\n",
       "    <tr>\n",
       "      <th>781</th>\n",
       "      <td>Heriberto</td>\n",
       "      <td>Mcguffie</td>\n",
       "      <td>Mineralgatan</td>\n",
       "      <td>20</td>\n",
       "      <td>30157.0</td>\n",
       "      <td>Halmstad</td>\n",
       "      <td>True</td>\n",
       "    </tr>\n",
       "    <tr>\n",
       "      <th>1130</th>\n",
       "      <td>Jerica</td>\n",
       "      <td>Granillo</td>\n",
       "      <td>missing</td>\n",
       "      <td>20</td>\n",
       "      <td>58174.0</td>\n",
       "      <td>Linkoping</td>\n",
       "      <td>False</td>\n",
       "    </tr>\n",
       "    <tr>\n",
       "      <th>1242</th>\n",
       "      <td>Cordia</td>\n",
       "      <td>Bunge</td>\n",
       "      <td>Allhelgonagatan</td>\n",
       "      <td>20</td>\n",
       "      <td>63125.0</td>\n",
       "      <td>Eskilstuna</td>\n",
       "      <td>True</td>\n",
       "    </tr>\n",
       "    <tr>\n",
       "      <th>1376</th>\n",
       "      <td>Sandie</td>\n",
       "      <td>Freese</td>\n",
       "      <td>Alsta</td>\n",
       "      <td>20</td>\n",
       "      <td>75167.0</td>\n",
       "      <td>Uppsala</td>\n",
       "      <td>True</td>\n",
       "    </tr>\n",
       "    <tr>\n",
       "      <th>1578</th>\n",
       "      <td>Lieselotte</td>\n",
       "      <td>Halberg</td>\n",
       "      <td>Nyhem</td>\n",
       "      <td>20</td>\n",
       "      <td>4119.0</td>\n",
       "      <td>Goteborg</td>\n",
       "      <td>False</td>\n",
       "    </tr>\n",
       "    <tr>\n",
       "      <th>1615</th>\n",
       "      <td>missing</td>\n",
       "      <td>Odell</td>\n",
       "      <td>Mesta</td>\n",
       "      <td>20</td>\n",
       "      <td>39146.0</td>\n",
       "      <td>Kalmar</td>\n",
       "      <td>True</td>\n",
       "    </tr>\n",
       "    <tr>\n",
       "      <th>1630</th>\n",
       "      <td>Chance</td>\n",
       "      <td>Breeze</td>\n",
       "      <td>Ekorrstigen</td>\n",
       "      <td>20</td>\n",
       "      <td>97146.0</td>\n",
       "      <td>Lulea</td>\n",
       "      <td>True</td>\n",
       "    </tr>\n",
       "    <tr>\n",
       "      <th>1737</th>\n",
       "      <td>Slyvia</td>\n",
       "      <td>Lashley</td>\n",
       "      <td>Kaptensgatan</td>\n",
       "      <td>20</td>\n",
       "      <td>25168.0</td>\n",
       "      <td>Helsingborg</td>\n",
       "      <td>True</td>\n",
       "    </tr>\n",
       "    <tr>\n",
       "      <th>2022</th>\n",
       "      <td>Juliette</td>\n",
       "      <td>Favors</td>\n",
       "      <td>Berg</td>\n",
       "      <td>20</td>\n",
       "      <td>60177.0</td>\n",
       "      <td>Norrkoping</td>\n",
       "      <td>True</td>\n",
       "    </tr>\n",
       "    <tr>\n",
       "      <th>2330</th>\n",
       "      <td>Elza</td>\n",
       "      <td>Prophet</td>\n",
       "      <td>Odensbergsgatan</td>\n",
       "      <td>20</td>\n",
       "      <td>85178.0</td>\n",
       "      <td>Sundsvall</td>\n",
       "      <td>True</td>\n",
       "    </tr>\n",
       "    <tr>\n",
       "      <th>2448</th>\n",
       "      <td>Gaynell</td>\n",
       "      <td>Pascarelli</td>\n",
       "      <td>Fotstigen</td>\n",
       "      <td>20</td>\n",
       "      <td>11168.0</td>\n",
       "      <td>Stockholm</td>\n",
       "      <td>True</td>\n",
       "    </tr>\n",
       "    <tr>\n",
       "      <th>2483</th>\n",
       "      <td>Gaynell</td>\n",
       "      <td>Pascarelli</td>\n",
       "      <td>Abborregatan</td>\n",
       "      <td>20</td>\n",
       "      <td>50147.0</td>\n",
       "      <td>Boras</td>\n",
       "      <td>True</td>\n",
       "    </tr>\n",
       "    <tr>\n",
       "      <th>3156</th>\n",
       "      <td>Shayna</td>\n",
       "      <td>Lyttle</td>\n",
       "      <td>Odensbergsgatan</td>\n",
       "      <td>20</td>\n",
       "      <td>22178.0</td>\n",
       "      <td>Lund</td>\n",
       "      <td>True</td>\n",
       "    </tr>\n",
       "    <tr>\n",
       "      <th>3515</th>\n",
       "      <td>Sally</td>\n",
       "      <td>Kraemer</td>\n",
       "      <td>Blomstigen</td>\n",
       "      <td>20</td>\n",
       "      <td>65134.0</td>\n",
       "      <td>Karlstad</td>\n",
       "      <td>True</td>\n",
       "    </tr>\n",
       "    <tr>\n",
       "      <th>3704</th>\n",
       "      <td>Victorina</td>\n",
       "      <td>Cataldo</td>\n",
       "      <td>Bondegatan</td>\n",
       "      <td>20</td>\n",
       "      <td>22136.0</td>\n",
       "      <td>Lund</td>\n",
       "      <td>True</td>\n",
       "    </tr>\n",
       "    <tr>\n",
       "      <th>3716</th>\n",
       "      <td>Adrien</td>\n",
       "      <td>Emerson</td>\n",
       "      <td>missing</td>\n",
       "      <td>20</td>\n",
       "      <td>58157.0</td>\n",
       "      <td>Linkoping</td>\n",
       "      <td>False</td>\n",
       "    </tr>\n",
       "    <tr>\n",
       "      <th>3734</th>\n",
       "      <td>Cristopher</td>\n",
       "      <td>Bakken</td>\n",
       "      <td>Mineralgatan</td>\n",
       "      <td>20</td>\n",
       "      <td>58157.0</td>\n",
       "      <td>Linkoping</td>\n",
       "      <td>True</td>\n",
       "    </tr>\n",
       "    <tr>\n",
       "      <th>3854</th>\n",
       "      <td>Wilbert</td>\n",
       "      <td>Chavous</td>\n",
       "      <td>Allhelgonagatan</td>\n",
       "      <td>20</td>\n",
       "      <td>58125.0</td>\n",
       "      <td>Linkoping</td>\n",
       "      <td>True</td>\n",
       "    </tr>\n",
       "    <tr>\n",
       "      <th>3889</th>\n",
       "      <td>Alessandra</td>\n",
       "      <td>Piedra</td>\n",
       "      <td>Dagsberg</td>\n",
       "      <td>20</td>\n",
       "      <td>97124.0</td>\n",
       "      <td>Lulea</td>\n",
       "      <td>True</td>\n",
       "    </tr>\n",
       "    <tr>\n",
       "      <th>4002</th>\n",
       "      <td>Alia</td>\n",
       "      <td>Criddle</td>\n",
       "      <td>missing</td>\n",
       "      <td>20</td>\n",
       "      <td>97123.0</td>\n",
       "      <td>Lulea</td>\n",
       "      <td>False</td>\n",
       "    </tr>\n",
       "    <tr>\n",
       "      <th>4162</th>\n",
       "      <td>Caron</td>\n",
       "      <td>Neal</td>\n",
       "      <td>Alsta</td>\n",
       "      <td>20</td>\n",
       "      <td>41167.0</td>\n",
       "      <td>Goteborg</td>\n",
       "      <td>True</td>\n",
       "    </tr>\n",
       "    <tr>\n",
       "      <th>4345</th>\n",
       "      <td>Shu</td>\n",
       "      <td>Tippie</td>\n",
       "      <td>missing</td>\n",
       "      <td>20</td>\n",
       "      <td>-1.0</td>\n",
       "      <td>Sundsvall</td>\n",
       "      <td>False</td>\n",
       "    </tr>\n",
       "    <tr>\n",
       "      <th>4445</th>\n",
       "      <td>missing</td>\n",
       "      <td>Tippie</td>\n",
       "      <td>Butgatan</td>\n",
       "      <td>20</td>\n",
       "      <td>63129.0</td>\n",
       "      <td>Eskilstuna</td>\n",
       "      <td>True</td>\n",
       "    </tr>\n",
       "    <tr>\n",
       "      <th>4713</th>\n",
       "      <td>Zelma</td>\n",
       "      <td>Crandell</td>\n",
       "      <td>Alegatan</td>\n",
       "      <td>20</td>\n",
       "      <td>25125.0</td>\n",
       "      <td>Helsingborg</td>\n",
       "      <td>True</td>\n",
       "    </tr>\n",
       "    <tr>\n",
       "      <th>4723</th>\n",
       "      <td>Chrissy</td>\n",
       "      <td>Shamblin</td>\n",
       "      <td>Mesta</td>\n",
       "      <td>20</td>\n",
       "      <td>-1.0</td>\n",
       "      <td>missing</td>\n",
       "      <td>False</td>\n",
       "    </tr>\n",
       "    <tr>\n",
       "      <th>...</th>\n",
       "      <td>...</td>\n",
       "      <td>...</td>\n",
       "      <td>...</td>\n",
       "      <td>...</td>\n",
       "      <td>...</td>\n",
       "      <td>...</td>\n",
       "      <td>...</td>\n",
       "    </tr>\n",
       "    <tr>\n",
       "      <th>993637</th>\n",
       "      <td>Sari</td>\n",
       "      <td>Hemstreet</td>\n",
       "      <td>Adjunktsgatan</td>\n",
       "      <td>20</td>\n",
       "      <td>30164.0</td>\n",
       "      <td>Halmstad</td>\n",
       "      <td>True</td>\n",
       "    </tr>\n",
       "    <tr>\n",
       "      <th>993723</th>\n",
       "      <td>missing</td>\n",
       "      <td>Sherron</td>\n",
       "      <td>Aberga</td>\n",
       "      <td>20</td>\n",
       "      <td>30148.0</td>\n",
       "      <td>Halmstad</td>\n",
       "      <td>True</td>\n",
       "    </tr>\n",
       "    <tr>\n",
       "      <th>993798</th>\n",
       "      <td>Loreta</td>\n",
       "      <td>Mobley</td>\n",
       "      <td>Eriksberg</td>\n",
       "      <td>20</td>\n",
       "      <td>-1.0</td>\n",
       "      <td>Helsingborg</td>\n",
       "      <td>False</td>\n",
       "    </tr>\n",
       "    <tr>\n",
       "      <th>993856</th>\n",
       "      <td>Brigid</td>\n",
       "      <td>missing</td>\n",
       "      <td>Pallasgatan</td>\n",
       "      <td>20</td>\n",
       "      <td>21137.0</td>\n",
       "      <td>Malmo</td>\n",
       "      <td>True</td>\n",
       "    </tr>\n",
       "    <tr>\n",
       "      <th>993930</th>\n",
       "      <td>Shayna</td>\n",
       "      <td>Lyttle</td>\n",
       "      <td>Agnesgatan</td>\n",
       "      <td>20</td>\n",
       "      <td>60165.0</td>\n",
       "      <td>Norrkoping</td>\n",
       "      <td>True</td>\n",
       "    </tr>\n",
       "    <tr>\n",
       "      <th>994258</th>\n",
       "      <td>Cristi</td>\n",
       "      <td>missing</td>\n",
       "      <td>Fotstigen</td>\n",
       "      <td>20</td>\n",
       "      <td>60168.0</td>\n",
       "      <td>Norrkoping</td>\n",
       "      <td>True</td>\n",
       "    </tr>\n",
       "    <tr>\n",
       "      <th>994323</th>\n",
       "      <td>Bernetta</td>\n",
       "      <td>Rountree</td>\n",
       "      <td>Dagsberg</td>\n",
       "      <td>20</td>\n",
       "      <td>63124.0</td>\n",
       "      <td>Eskilstuna</td>\n",
       "      <td>True</td>\n",
       "    </tr>\n",
       "    <tr>\n",
       "      <th>994521</th>\n",
       "      <td>Tresa</td>\n",
       "      <td>Kestler</td>\n",
       "      <td>Odlarstigen</td>\n",
       "      <td>20</td>\n",
       "      <td>85178.0</td>\n",
       "      <td>Sundsvall</td>\n",
       "      <td>True</td>\n",
       "    </tr>\n",
       "    <tr>\n",
       "      <th>994593</th>\n",
       "      <td>Anneliese</td>\n",
       "      <td>Laber</td>\n",
       "      <td>Nyhem</td>\n",
       "      <td>20</td>\n",
       "      <td>5819.0</td>\n",
       "      <td>Linkoping</td>\n",
       "      <td>False</td>\n",
       "    </tr>\n",
       "    <tr>\n",
       "      <th>994965</th>\n",
       "      <td>missing</td>\n",
       "      <td>Kent</td>\n",
       "      <td>Amiralsgatan</td>\n",
       "      <td>20</td>\n",
       "      <td>-1.0</td>\n",
       "      <td>Stockholm</td>\n",
       "      <td>False</td>\n",
       "    </tr>\n",
       "    <tr>\n",
       "      <th>995149</th>\n",
       "      <td>Patricia</td>\n",
       "      <td>Blackwelder</td>\n",
       "      <td>Larmtorget</td>\n",
       "      <td>20</td>\n",
       "      <td>97146.0</td>\n",
       "      <td>Lulea</td>\n",
       "      <td>True</td>\n",
       "    </tr>\n",
       "    <tr>\n",
       "      <th>995895</th>\n",
       "      <td>missing</td>\n",
       "      <td>Gover</td>\n",
       "      <td>Parkgatan</td>\n",
       "      <td>20</td>\n",
       "      <td>65136.0</td>\n",
       "      <td>Karlstad</td>\n",
       "      <td>True</td>\n",
       "    </tr>\n",
       "    <tr>\n",
       "      <th>996173</th>\n",
       "      <td>Laronda</td>\n",
       "      <td>Wenner</td>\n",
       "      <td>Betesbacken</td>\n",
       "      <td>20</td>\n",
       "      <td>41176.0</td>\n",
       "      <td>Goteborg</td>\n",
       "      <td>True</td>\n",
       "    </tr>\n",
       "    <tr>\n",
       "      <th>996682</th>\n",
       "      <td>missing</td>\n",
       "      <td>Tippie</td>\n",
       "      <td>Butgatan</td>\n",
       "      <td>20</td>\n",
       "      <td>63129.0</td>\n",
       "      <td>Eskilstuna</td>\n",
       "      <td>True</td>\n",
       "    </tr>\n",
       "    <tr>\n",
       "      <th>996736</th>\n",
       "      <td>Sally</td>\n",
       "      <td>Kraemer</td>\n",
       "      <td>Allhelgonagatan</td>\n",
       "      <td>20</td>\n",
       "      <td>50125.0</td>\n",
       "      <td>missing</td>\n",
       "      <td>True</td>\n",
       "    </tr>\n",
       "    <tr>\n",
       "      <th>997293</th>\n",
       "      <td>Ross</td>\n",
       "      <td>Bell</td>\n",
       "      <td>missing</td>\n",
       "      <td>20</td>\n",
       "      <td>35123.0</td>\n",
       "      <td>Vaxjo</td>\n",
       "      <td>False</td>\n",
       "    </tr>\n",
       "    <tr>\n",
       "      <th>997583</th>\n",
       "      <td>Heriberto</td>\n",
       "      <td>Mcguffie</td>\n",
       "      <td>Bohusgatan</td>\n",
       "      <td>20</td>\n",
       "      <td>75147.0</td>\n",
       "      <td>Uppsala</td>\n",
       "      <td>True</td>\n",
       "    </tr>\n",
       "    <tr>\n",
       "      <th>997978</th>\n",
       "      <td>Pearlene</td>\n",
       "      <td>Robison</td>\n",
       "      <td>Floragatan</td>\n",
       "      <td>20</td>\n",
       "      <td>90146.0</td>\n",
       "      <td>Umea</td>\n",
       "      <td>True</td>\n",
       "    </tr>\n",
       "    <tr>\n",
       "      <th>998052</th>\n",
       "      <td>Hank</td>\n",
       "      <td>missing</td>\n",
       "      <td>Dagsberg</td>\n",
       "      <td>20</td>\n",
       "      <td>35124.0</td>\n",
       "      <td>Vaxjo</td>\n",
       "      <td>True</td>\n",
       "    </tr>\n",
       "    <tr>\n",
       "      <th>998066</th>\n",
       "      <td>Alicia</td>\n",
       "      <td>Trombly</td>\n",
       "      <td>Allhelgonagatan</td>\n",
       "      <td>20</td>\n",
       "      <td>41125.0</td>\n",
       "      <td>Goteborg</td>\n",
       "      <td>True</td>\n",
       "    </tr>\n",
       "    <tr>\n",
       "      <th>998092</th>\n",
       "      <td>Adrien</td>\n",
       "      <td>Emerson</td>\n",
       "      <td>Pilgatan</td>\n",
       "      <td>20</td>\n",
       "      <td>58133.0</td>\n",
       "      <td>Linkoping</td>\n",
       "      <td>True</td>\n",
       "    </tr>\n",
       "    <tr>\n",
       "      <th>998205</th>\n",
       "      <td>Susannah</td>\n",
       "      <td>missing</td>\n",
       "      <td>Mineralgatan</td>\n",
       "      <td>20</td>\n",
       "      <td>60157.0</td>\n",
       "      <td>Norrkoping</td>\n",
       "      <td>True</td>\n",
       "    </tr>\n",
       "    <tr>\n",
       "      <th>998578</th>\n",
       "      <td>Adrien</td>\n",
       "      <td>Emerson</td>\n",
       "      <td>Nyhem</td>\n",
       "      <td>20</td>\n",
       "      <td>30198.0</td>\n",
       "      <td>Halmstad</td>\n",
       "      <td>True</td>\n",
       "    </tr>\n",
       "    <tr>\n",
       "      <th>998609</th>\n",
       "      <td>Shu</td>\n",
       "      <td>Tippie</td>\n",
       "      <td>Parkgatan</td>\n",
       "      <td>20</td>\n",
       "      <td>63136.0</td>\n",
       "      <td>Eskilstuna</td>\n",
       "      <td>True</td>\n",
       "    </tr>\n",
       "    <tr>\n",
       "      <th>998708</th>\n",
       "      <td>Lieselotte</td>\n",
       "      <td>Halberg</td>\n",
       "      <td>Alegatan</td>\n",
       "      <td>20</td>\n",
       "      <td>21125.0</td>\n",
       "      <td>Malmo</td>\n",
       "      <td>True</td>\n",
       "    </tr>\n",
       "    <tr>\n",
       "      <th>999192</th>\n",
       "      <td>Slyvia</td>\n",
       "      <td>Lashley</td>\n",
       "      <td>Agnesgatan</td>\n",
       "      <td>20</td>\n",
       "      <td>-1.0</td>\n",
       "      <td>Vaxjo</td>\n",
       "      <td>False</td>\n",
       "    </tr>\n",
       "    <tr>\n",
       "      <th>999307</th>\n",
       "      <td>Clayton</td>\n",
       "      <td>Damon</td>\n",
       "      <td>Floragatan</td>\n",
       "      <td>20</td>\n",
       "      <td>60146.0</td>\n",
       "      <td>Norrkoping</td>\n",
       "      <td>True</td>\n",
       "    </tr>\n",
       "    <tr>\n",
       "      <th>999328</th>\n",
       "      <td>Susannah</td>\n",
       "      <td>Lino</td>\n",
       "      <td>Bondegatan</td>\n",
       "      <td>20</td>\n",
       "      <td>90136.0</td>\n",
       "      <td>Umea</td>\n",
       "      <td>True</td>\n",
       "    </tr>\n",
       "    <tr>\n",
       "      <th>999601</th>\n",
       "      <td>Val</td>\n",
       "      <td>Borge</td>\n",
       "      <td>Ankargatan</td>\n",
       "      <td>20</td>\n",
       "      <td>11157.0</td>\n",
       "      <td>Stockholm</td>\n",
       "      <td>True</td>\n",
       "    </tr>\n",
       "    <tr>\n",
       "      <th>999995</th>\n",
       "      <td>Bianca</td>\n",
       "      <td>Velasques</td>\n",
       "      <td>Kaptensgatan</td>\n",
       "      <td>20</td>\n",
       "      <td>60168.0</td>\n",
       "      <td>Norrkoping</td>\n",
       "      <td>True</td>\n",
       "    </tr>\n",
       "  </tbody>\n",
       "</table>\n",
       "<p>5033 rows × 7 columns</p>\n",
       "</div>"
      ],
      "text/plain": [
       "              Name      SurName            Street  StreetNr  ZipCode  \\\n",
       "66         Fatimah        Lonon           missing        20  60136.0   \n",
       "238         Bianca      missing      Mineralgatan        20   3915.0   \n",
       "369        Carolin    Wiechmann  Adlerberthsgatan        20  21123.0   \n",
       "587       Pearlene      Robison        Bondegatan        20  41136.0   \n",
       "764         Joleen       Bright       Ekorrstigen        20  21146.0   \n",
       "781      Heriberto     Mcguffie      Mineralgatan        20  30157.0   \n",
       "1130        Jerica     Granillo           missing        20  58174.0   \n",
       "1242        Cordia        Bunge   Allhelgonagatan        20  63125.0   \n",
       "1376        Sandie       Freese             Alsta        20  75167.0   \n",
       "1578    Lieselotte      Halberg             Nyhem        20   4119.0   \n",
       "1615       missing        Odell             Mesta        20  39146.0   \n",
       "1630        Chance       Breeze       Ekorrstigen        20  97146.0   \n",
       "1737        Slyvia      Lashley      Kaptensgatan        20  25168.0   \n",
       "2022      Juliette       Favors              Berg        20  60177.0   \n",
       "2330          Elza      Prophet   Odensbergsgatan        20  85178.0   \n",
       "2448       Gaynell   Pascarelli         Fotstigen        20  11168.0   \n",
       "2483       Gaynell   Pascarelli      Abborregatan        20  50147.0   \n",
       "3156        Shayna       Lyttle   Odensbergsgatan        20  22178.0   \n",
       "3515         Sally      Kraemer        Blomstigen        20  65134.0   \n",
       "3704     Victorina      Cataldo        Bondegatan        20  22136.0   \n",
       "3716        Adrien      Emerson           missing        20  58157.0   \n",
       "3734    Cristopher       Bakken      Mineralgatan        20  58157.0   \n",
       "3854       Wilbert      Chavous   Allhelgonagatan        20  58125.0   \n",
       "3889    Alessandra       Piedra          Dagsberg        20  97124.0   \n",
       "4002          Alia      Criddle           missing        20  97123.0   \n",
       "4162         Caron         Neal             Alsta        20  41167.0   \n",
       "4345           Shu       Tippie           missing        20     -1.0   \n",
       "4445       missing       Tippie          Butgatan        20  63129.0   \n",
       "4713         Zelma     Crandell          Alegatan        20  25125.0   \n",
       "4723       Chrissy     Shamblin             Mesta        20     -1.0   \n",
       "...            ...          ...               ...       ...      ...   \n",
       "993637        Sari    Hemstreet     Adjunktsgatan        20  30164.0   \n",
       "993723     missing      Sherron            Aberga        20  30148.0   \n",
       "993798      Loreta       Mobley         Eriksberg        20     -1.0   \n",
       "993856      Brigid      missing       Pallasgatan        20  21137.0   \n",
       "993930      Shayna       Lyttle        Agnesgatan        20  60165.0   \n",
       "994258      Cristi      missing         Fotstigen        20  60168.0   \n",
       "994323    Bernetta     Rountree          Dagsberg        20  63124.0   \n",
       "994521       Tresa      Kestler       Odlarstigen        20  85178.0   \n",
       "994593   Anneliese        Laber             Nyhem        20   5819.0   \n",
       "994965     missing         Kent      Amiralsgatan        20     -1.0   \n",
       "995149    Patricia  Blackwelder        Larmtorget        20  97146.0   \n",
       "995895     missing        Gover         Parkgatan        20  65136.0   \n",
       "996173     Laronda       Wenner       Betesbacken        20  41176.0   \n",
       "996682     missing       Tippie          Butgatan        20  63129.0   \n",
       "996736       Sally      Kraemer   Allhelgonagatan        20  50125.0   \n",
       "997293        Ross         Bell           missing        20  35123.0   \n",
       "997583   Heriberto     Mcguffie        Bohusgatan        20  75147.0   \n",
       "997978    Pearlene      Robison        Floragatan        20  90146.0   \n",
       "998052        Hank      missing          Dagsberg        20  35124.0   \n",
       "998066      Alicia      Trombly   Allhelgonagatan        20  41125.0   \n",
       "998092      Adrien      Emerson          Pilgatan        20  58133.0   \n",
       "998205    Susannah      missing      Mineralgatan        20  60157.0   \n",
       "998578      Adrien      Emerson             Nyhem        20  30198.0   \n",
       "998609         Shu       Tippie         Parkgatan        20  63136.0   \n",
       "998708  Lieselotte      Halberg          Alegatan        20  21125.0   \n",
       "999192      Slyvia      Lashley        Agnesgatan        20     -1.0   \n",
       "999307     Clayton        Damon        Floragatan        20  60146.0   \n",
       "999328    Susannah         Lino        Bondegatan        20  90136.0   \n",
       "999601         Val        Borge        Ankargatan        20  11157.0   \n",
       "999995      Bianca    Velasques      Kaptensgatan        20  60168.0   \n",
       "\n",
       "               City Legitimate  \n",
       "66          missing      False  \n",
       "238          Kalmar      False  \n",
       "369           Malmo       True  \n",
       "587        Goteborg       True  \n",
       "764           Malmo       True  \n",
       "781        Halmstad       True  \n",
       "1130      Linkoping      False  \n",
       "1242     Eskilstuna       True  \n",
       "1376        Uppsala       True  \n",
       "1578       Goteborg      False  \n",
       "1615         Kalmar       True  \n",
       "1630          Lulea       True  \n",
       "1737    Helsingborg       True  \n",
       "2022     Norrkoping       True  \n",
       "2330      Sundsvall       True  \n",
       "2448      Stockholm       True  \n",
       "2483          Boras       True  \n",
       "3156           Lund       True  \n",
       "3515       Karlstad       True  \n",
       "3704           Lund       True  \n",
       "3716      Linkoping      False  \n",
       "3734      Linkoping       True  \n",
       "3854      Linkoping       True  \n",
       "3889          Lulea       True  \n",
       "4002          Lulea      False  \n",
       "4162       Goteborg       True  \n",
       "4345      Sundsvall      False  \n",
       "4445     Eskilstuna       True  \n",
       "4713    Helsingborg       True  \n",
       "4723        missing      False  \n",
       "...             ...        ...  \n",
       "993637     Halmstad       True  \n",
       "993723     Halmstad       True  \n",
       "993798  Helsingborg      False  \n",
       "993856        Malmo       True  \n",
       "993930   Norrkoping       True  \n",
       "994258   Norrkoping       True  \n",
       "994323   Eskilstuna       True  \n",
       "994521    Sundsvall       True  \n",
       "994593    Linkoping      False  \n",
       "994965    Stockholm      False  \n",
       "995149        Lulea       True  \n",
       "995895     Karlstad       True  \n",
       "996173     Goteborg       True  \n",
       "996682   Eskilstuna       True  \n",
       "996736      missing       True  \n",
       "997293        Vaxjo      False  \n",
       "997583      Uppsala       True  \n",
       "997978         Umea       True  \n",
       "998052        Vaxjo       True  \n",
       "998066     Goteborg       True  \n",
       "998092    Linkoping       True  \n",
       "998205   Norrkoping       True  \n",
       "998578     Halmstad       True  \n",
       "998609   Eskilstuna       True  \n",
       "998708        Malmo       True  \n",
       "999192        Vaxjo      False  \n",
       "999307   Norrkoping       True  \n",
       "999328         Umea       True  \n",
       "999601    Stockholm       True  \n",
       "999995   Norrkoping       True  \n",
       "\n",
       "[5033 rows x 7 columns]"
      ]
     },
     "execution_count": 7,
     "metadata": {},
     "output_type": "execute_result"
    }
   ],
   "source": [
    "# Change all missing values to 'missing'\n",
    "\n",
    "df['Name']     = df['Name'].fillna('missing')\n",
    "df['SurName']  = df['SurName'].fillna('missing')\n",
    "df['Street']   = df['Street'].fillna('missing')\n",
    "df['StreetNr'] = df['StreetNr'].fillna(-1)\n",
    "df['ZipCode'] = df['ZipCode'].fillna(-1)\n",
    "df['City']     = df['City'].fillna('missing')\n",
    "#df.loc[df['Legitimate'] == False]\n",
    "df.loc[df['StreetNr'] == 20]"
   ]
  },
  {
   "cell_type": "code",
   "execution_count": 8,
   "metadata": {
    "collapsed": false
   },
   "outputs": [
    {
     "data": {
      "text/plain": [
       "False"
      ]
     },
     "execution_count": 8,
     "metadata": {},
     "output_type": "execute_result"
    }
   ],
   "source": [
    "#Check for null values\n",
    "df.isnull().values.any()"
   ]
  },
  {
   "cell_type": "code",
   "execution_count": 9,
   "metadata": {
    "collapsed": false
   },
   "outputs": [
    {
     "data": {
      "text/plain": [
       "(1000000, 7)"
      ]
     },
     "execution_count": 9,
     "metadata": {},
     "output_type": "execute_result"
    }
   ],
   "source": [
    "# Shows the RowsxColumns\n",
    "df.shape"
   ]
  },
  {
   "cell_type": "code",
   "execution_count": 10,
   "metadata": {
    "collapsed": false
   },
   "outputs": [
    {
     "data": {
      "text/html": [
       "<div>\n",
       "<table border=\"1\" class=\"dataframe\">\n",
       "  <thead>\n",
       "    <tr style=\"text-align: right;\">\n",
       "      <th></th>\n",
       "      <th>Name</th>\n",
       "      <th>SurName</th>\n",
       "      <th>Street</th>\n",
       "      <th>StreetNr</th>\n",
       "      <th>ZipCode</th>\n",
       "      <th>City</th>\n",
       "      <th>Legitimate</th>\n",
       "    </tr>\n",
       "  </thead>\n",
       "  <tbody>\n",
       "    <tr>\n",
       "      <th>0</th>\n",
       "      <td>72</td>\n",
       "      <td>21</td>\n",
       "      <td>32</td>\n",
       "      <td>132</td>\n",
       "      <td>65168.0</td>\n",
       "      <td>8</td>\n",
       "      <td>1</td>\n",
       "    </tr>\n",
       "    <tr>\n",
       "      <th>1</th>\n",
       "      <td>3</td>\n",
       "      <td>19</td>\n",
       "      <td>8</td>\n",
       "      <td>176</td>\n",
       "      <td>65174.0</td>\n",
       "      <td>8</td>\n",
       "      <td>1</td>\n",
       "    </tr>\n",
       "    <tr>\n",
       "      <th>2</th>\n",
       "      <td>51</td>\n",
       "      <td>100</td>\n",
       "      <td>13</td>\n",
       "      <td>69</td>\n",
       "      <td>55167.0</td>\n",
       "      <td>6</td>\n",
       "      <td>1</td>\n",
       "    </tr>\n",
       "    <tr>\n",
       "      <th>3</th>\n",
       "      <td>70</td>\n",
       "      <td>3</td>\n",
       "      <td>40</td>\n",
       "      <td>196</td>\n",
       "      <td>63178.0</td>\n",
       "      <td>1</td>\n",
       "      <td>1</td>\n",
       "    </tr>\n",
       "    <tr>\n",
       "      <th>4</th>\n",
       "      <td>6</td>\n",
       "      <td>50</td>\n",
       "      <td>12</td>\n",
       "      <td>152</td>\n",
       "      <td>50165.0</td>\n",
       "      <td>0</td>\n",
       "      <td>1</td>\n",
       "    </tr>\n",
       "  </tbody>\n",
       "</table>\n",
       "</div>"
      ],
      "text/plain": [
       "   Name  SurName  Street  StreetNr  ZipCode  City  Legitimate\n",
       "0    72       21      32       132  65168.0     8           1\n",
       "1     3       19       8       176  65174.0     8           1\n",
       "2    51      100      13        69  55167.0     6           1\n",
       "3    70        3      40       196  63178.0     1           1\n",
       "4     6       50      12       152  50165.0     0           1"
      ]
     },
     "execution_count": 10,
     "metadata": {},
     "output_type": "execute_result"
    }
   ],
   "source": [
    "# This is a simple encoder which replaces Strings with a number\n",
    "\n",
    "# TODO:\n",
    "# Should save the corresponding number to the corresponding string in a file\n",
    "\n",
    "from sklearn.preprocessing import LabelEncoder\n",
    "\n",
    "def dummyEncode(df):\n",
    "        columnsToEncode = list(df.select_dtypes(include=['category','object']))\n",
    "        le = LabelEncoder()\n",
    "        for feature in columnsToEncode:\n",
    "            try:\n",
    "                df[feature] = le.fit_transform(df[feature])\n",
    "            except:\n",
    "                print('Error encoding '+ feature)\n",
    "        return df\n",
    "    \n",
    "dummyEncode(df)\n",
    "\n",
    "\n",
    "# Chane True/False to 1/0\n",
    "correctAdress = {True : 1, False : 0}\n",
    "df['Legitimate'] = df['Legitimate'].map(correctAdress)\n",
    "\n",
    "df.select_dtypes\n",
    "\n",
    "df.head()"
   ]
  },
  {
   "cell_type": "markdown",
   "metadata": {},
   "source": [
    "### Check True/False Ratio"
   ]
  },
  {
   "cell_type": "code",
   "execution_count": 11,
   "metadata": {
    "collapsed": false
   },
   "outputs": [
    {
     "name": "stdout",
     "output_type": "stream",
     "text": [
      "Number of True cases: 816622 (81.66%)\n",
      "Number of False cases: 183378 (18.34%)\n"
     ]
    }
   ],
   "source": [
    "num_true = len(df.loc[df['Legitimate'] == True])\n",
    "num_false = len(df.loc[df['Legitimate'] == False])\n",
    "\n",
    "print(\"Number of True cases: {0} ({1:2.2f}%)\".format(num_true, (num_true / (num_true + num_false)) * 100))\n",
    "print(\"Number of False cases: {0} ({1:2.2f}%)\".format(num_false, (num_false / (num_true + num_false)) * 100))"
   ]
  },
  {
   "cell_type": "markdown",
   "metadata": {},
   "source": [
    "### Split Data"
   ]
  },
  {
   "cell_type": "code",
   "execution_count": 12,
   "metadata": {
    "collapsed": false
   },
   "outputs": [],
   "source": [
    "# Divides the Train data and Test data into a 70/30 split\n",
    "\n",
    "#X_train = pd.get_dummies(df)\n",
    "#X_test = pd.get_dummies(df)\n",
    "\n",
    "\n",
    "feature_col_names = ['Name', 'City', 'Street', 'StreetNr', 'ZipCode', 'SurName']\n",
    "prediction_class_name = ['Legitimate']\n",
    "\n",
    "#ddf = pd.get_dummies(df)\n",
    "\n",
    "X = df[feature_col_names].values     # predictor feature columnd (8 X m)\n",
    "y = df[prediction_class_name].values # predicted calss (1 = true, 0 = false) column (1 X m)\n",
    "split_test_size = 0.70\n",
    "\n",
    "X_train, X_test, y_train, y_test = train_test_split(X, y, test_size = split_test_size, random_state = 42) # 42 is the answer to everything\n"
   ]
  },
  {
   "cell_type": "code",
   "execution_count": 13,
   "metadata": {
    "collapsed": false
   },
   "outputs": [
    {
     "name": "stdout",
     "output_type": "stream",
     "text": [
      "30.00% in training set\n",
      "70.00% in test set\n"
     ]
    }
   ],
   "source": [
    "#Print to check if the split was to our liking\n",
    "\n",
    "print(\"{0:0.2f}% in training set\".format((len(X_train)/len(df.index)) * 100))\n",
    "print(\"{0:0.2f}% in test set\".format((len(X_test)/len(df.index)) * 100))"
   ]
  },
  {
   "cell_type": "markdown",
   "metadata": {},
   "source": [
    "### Verifying predicted value was split correctly"
   ]
  },
  {
   "cell_type": "code",
   "execution_count": 14,
   "metadata": {
    "collapsed": false
   },
   "outputs": [
    {
     "name": "stdout",
     "output_type": "stream",
     "text": [
      "Original True  : 816622 (81.66%)\n",
      "Original False : 183378 (18.34%)\n",
      "\n",
      "Training True  : 245072 (81.69%)\n",
      "Training False : 54928 (18.31%)\n",
      "\n",
      "Test True      : 571550 (81.65%)\n",
      "Test False     : 128450 (18.35%)\n"
     ]
    }
   ],
   "source": [
    "print(\"Original True  : {0} ({1:0.2f}%)\".format(len(df.loc[df['Legitimate'] == 1]), len(df.loc[df['Legitimate'] == 1]) / len(df.index) * 100))\n",
    "print(\"Original False : {0} ({1:0.2f}%)\".format(len(df.loc[df['Legitimate'] == 0]), len(df.loc[df['Legitimate'] == 0]) / len(df.index) * 100))\n",
    "print(\"\")\n",
    "print(\"Training True  : {0} ({1:0.2f}%)\".format(len(y_train[y_train[:] == 1]), len(y_train[y_train[:] == 1]) / len(y_train) * 100))\n",
    "print(\"Training False : {0} ({1:0.2f}%)\".format(len(y_train[y_train[:] == 0]), len(y_train[y_train[:] == 0]) / len(y_train) * 100))\n",
    "print(\"\")\n",
    "print(\"Test True      : {0} ({1:0.2f}%)\".format(len(y_test[y_test[:] == 1]), len(y_test[y_test[:] == 1]) / len(y_test) * 100))\n",
    "print(\"Test False     : {0} ({1:0.2f}%)\".format(len(y_test[y_test[:] == 0]), len(y_test[y_test[:] == 0]) / len(y_test) * 100))"
   ]
  },
  {
   "cell_type": "code",
   "execution_count": 15,
   "metadata": {
    "collapsed": false,
    "scrolled": false
   },
   "outputs": [
    {
     "data": {
      "image/png": "[encoded data removed]",
      "text/plain": [
       "<matplotlib.figure.Figure at 0x2141742f0b8>"
      ]
     },
     "metadata": {},
     "output_type": "display_data"
    }
   ],
   "source": [
    "def plot_corr(df, size=11):\n",
    "    # data frame correlation function\n",
    "    corr = df.corr()\n",
    "    fig, ax = plt.subplots(figsize=(size, size))\n",
    "    \n",
    "    # color code the rectangles by correlation value\n",
    "    ax.matshow(corr)\n",
    "    \n",
    "    # draw x tick marks\n",
    "    plt.xticks(range(len(corr.columns)), corr.columns)\n",
    "    # draw y tick marks\n",
    "    plt.yticks(range(len(corr.columns)), corr.columns)\n",
    "\n",
    "plot_corr(df)"
   ]
  },
  {
   "cell_type": "code",
   "execution_count": 16,
   "metadata": {
    "collapsed": false
   },
   "outputs": [
    {
     "data": {
      "text/html": [
       "<div>\n",
       "<table border=\"1\" class=\"dataframe\">\n",
       "  <thead>\n",
       "    <tr style=\"text-align: right;\">\n",
       "      <th></th>\n",
       "      <th>Name</th>\n",
       "      <th>SurName</th>\n",
       "      <th>Street</th>\n",
       "      <th>StreetNr</th>\n",
       "      <th>ZipCode</th>\n",
       "      <th>City</th>\n",
       "      <th>Legitimate</th>\n",
       "    </tr>\n",
       "  </thead>\n",
       "  <tbody>\n",
       "    <tr>\n",
       "      <th>Name</th>\n",
       "      <td>1.000000</td>\n",
       "      <td>-0.138307</td>\n",
       "      <td>-0.001859</td>\n",
       "      <td>0.000634</td>\n",
       "      <td>-0.002282</td>\n",
       "      <td>-0.001133</td>\n",
       "      <td>-0.000647</td>\n",
       "    </tr>\n",
       "    <tr>\n",
       "      <th>SurName</th>\n",
       "      <td>-0.138307</td>\n",
       "      <td>1.000000</td>\n",
       "      <td>-0.003101</td>\n",
       "      <td>0.003309</td>\n",
       "      <td>0.000430</td>\n",
       "      <td>0.000912</td>\n",
       "      <td>0.000147</td>\n",
       "    </tr>\n",
       "    <tr>\n",
       "      <th>Street</th>\n",
       "      <td>-0.001859</td>\n",
       "      <td>-0.003101</td>\n",
       "      <td>1.000000</td>\n",
       "      <td>0.001119</td>\n",
       "      <td>0.001408</td>\n",
       "      <td>-0.000588</td>\n",
       "      <td>-0.331579</td>\n",
       "    </tr>\n",
       "    <tr>\n",
       "      <th>StreetNr</th>\n",
       "      <td>0.000634</td>\n",
       "      <td>0.003309</td>\n",
       "      <td>0.001119</td>\n",
       "      <td>1.000000</td>\n",
       "      <td>-0.001151</td>\n",
       "      <td>-0.000188</td>\n",
       "      <td>-0.001118</td>\n",
       "    </tr>\n",
       "    <tr>\n",
       "      <th>ZipCode</th>\n",
       "      <td>-0.002282</td>\n",
       "      <td>0.000430</td>\n",
       "      <td>0.001408</td>\n",
       "      <td>-0.001151</td>\n",
       "      <td>1.000000</td>\n",
       "      <td>0.111421</td>\n",
       "      <td>0.383389</td>\n",
       "    </tr>\n",
       "    <tr>\n",
       "      <th>City</th>\n",
       "      <td>-0.001133</td>\n",
       "      <td>0.000912</td>\n",
       "      <td>-0.000588</td>\n",
       "      <td>-0.000188</td>\n",
       "      <td>0.111421</td>\n",
       "      <td>1.000000</td>\n",
       "      <td>0.001010</td>\n",
       "    </tr>\n",
       "    <tr>\n",
       "      <th>Legitimate</th>\n",
       "      <td>-0.000647</td>\n",
       "      <td>0.000147</td>\n",
       "      <td>-0.331579</td>\n",
       "      <td>-0.001118</td>\n",
       "      <td>0.383389</td>\n",
       "      <td>0.001010</td>\n",
       "      <td>1.000000</td>\n",
       "    </tr>\n",
       "  </tbody>\n",
       "</table>\n",
       "</div>"
      ],
      "text/plain": [
       "                Name   SurName    Street  StreetNr   ZipCode      City  \\\n",
       "Name        1.000000 -0.138307 -0.001859  0.000634 -0.002282 -0.001133   \n",
       "SurName    -0.138307  1.000000 -0.003101  0.003309  0.000430  0.000912   \n",
       "Street     -0.001859 -0.003101  1.000000  0.001119  0.001408 -0.000588   \n",
       "StreetNr    0.000634  0.003309  0.001119  1.000000 -0.001151 -0.000188   \n",
       "ZipCode    -0.002282  0.000430  0.001408 -0.001151  1.000000  0.111421   \n",
       "City       -0.001133  0.000912 -0.000588 -0.000188  0.111421  1.000000   \n",
       "Legitimate -0.000647  0.000147 -0.331579 -0.001118  0.383389  0.001010   \n",
       "\n",
       "            Legitimate  \n",
       "Name         -0.000647  \n",
       "SurName       0.000147  \n",
       "Street       -0.331579  \n",
       "StreetNr     -0.001118  \n",
       "ZipCode       0.383389  \n",
       "City          0.001010  \n",
       "Legitimate    1.000000  "
      ]
     },
     "execution_count": 16,
     "metadata": {},
     "output_type": "execute_result"
    }
   ],
   "source": [
    "df.corr()"
   ]
  },
  {
   "cell_type": "markdown",
   "metadata": {},
   "source": [
    "## Random Forest Test"
   ]
  },
  {
   "cell_type": "code",
   "execution_count": 17,
   "metadata": {
    "collapsed": false
   },
   "outputs": [
    {
     "data": {
      "text/plain": [
       "RandomForestClassifier(bootstrap=True, class_weight=None, criterion='gini',\n",
       "            max_depth=None, max_features='auto', max_leaf_nodes=None,\n",
       "            min_impurity_split=1e-07, min_samples_leaf=1,\n",
       "            min_samples_split=2, min_weight_fraction_leaf=0.0,\n",
       "            n_estimators=10, n_jobs=1, oob_score=False, random_state=42,\n",
       "            verbose=0, warm_start=False)"
      ]
     },
     "execution_count": 17,
     "metadata": {},
     "output_type": "execute_result"
    }
   ],
   "source": [
    "from sklearn import metrics\n",
    "\n",
    "rf_model = RandomForestClassifier(random_state = 42) # Create random forest object\n",
    "rf_model.fit(X_train, y_train.ravel())"
   ]
  },
  {
   "cell_type": "code",
   "execution_count": 18,
   "metadata": {
    "collapsed": false
   },
   "outputs": [
    {
     "name": "stdout",
     "output_type": "stream",
     "text": [
      "Accuracy 1.0000\n"
     ]
    }
   ],
   "source": [
    "rf_predict_train = rf_model.predict(X_train)\n",
    "\n",
    "# training metrics\n",
    "print(\"Accuracy {0:.4f}\".format(metrics.accuracy_score(y_train, rf_predict_train)))"
   ]
  },
  {
   "cell_type": "code",
   "execution_count": 19,
   "metadata": {
    "collapsed": false
   },
   "outputs": [
    {
     "name": "stdout",
     "output_type": "stream",
     "text": [
      "Accuracy 1.0000\n"
     ]
    }
   ],
   "source": [
    "rf_predict_test = rf_model.predict(X_test)\n",
    "\n",
    "# training metrics\n",
    "print(\"Accuracy {0:.4f}\".format(metrics.accuracy_score(y_test, rf_predict_test)))"
   ]
  },
  {
   "cell_type": "code",
   "execution_count": 20,
   "metadata": {
    "collapsed": false
   },
   "outputs": [
    {
     "name": "stdout",
     "output_type": "stream",
     "text": [
      "Confusion Matrix\n",
      "[[571550      0]\n",
      " [     0 128450]]\n",
      "\n",
      "Classification Report\n",
      "             precision    recall  f1-score   support\n",
      "\n",
      "          1       1.00      1.00      1.00    571550\n",
      "          0       1.00      1.00      1.00    128450\n",
      "\n",
      "avg / total       1.00      1.00      1.00    700000\n",
      "\n"
     ]
    }
   ],
   "source": [
    "print(\"Confusion Matrix\")\n",
    "# Note the use of labels for set 1 = True to upper left and 0 = False to lower right\n",
    "print(\"{0}\".format(metrics.confusion_matrix(y_test, rf_predict_test, labels = [1, 0])))\n",
    "print(\"\")\n",
    "\n",
    "print(\"Classification Report\")\n",
    "print(metrics.classification_report(y_test, rf_predict_test, labels = [1, 0]))\n",
    "\n",
    "\n",
    "#[[True-Positive, False-Negative]\n",
    "#[False-Positive, True-Negative]]"
   ]
  },
  {
   "cell_type": "markdown",
   "metadata": {},
   "source": [
    "## Naive Bayers"
   ]
  },
  {
   "cell_type": "code",
   "execution_count": 21,
   "metadata": {
    "collapsed": true
   },
   "outputs": [],
   "source": [
    "from sklearn.preprocessing import Imputer\n",
    "\n",
    "#fill_0 = Imputer(missing_values = 0, strategy = \"mean\", axis = 0)\n",
    "\n",
    "#X_train = fill_0.fit_transform(X_train)\n",
    "#X_test  = fill_0.fit_transform(X_test)"
   ]
  },
  {
   "cell_type": "code",
   "execution_count": 22,
   "metadata": {
    "collapsed": false
   },
   "outputs": [
    {
     "data": {
      "text/plain": [
       "GaussianNB(priors=None)"
      ]
     },
     "execution_count": 22,
     "metadata": {},
     "output_type": "execute_result"
    }
   ],
   "source": [
    "# Training Bayers\n",
    "\n",
    "# create Gaussian Naive Bayes model object and train it with the data\n",
    "nb_model = GaussianNB()\n",
    "\n",
    "nb_model.fit(X_train, y_train.ravel())"
   ]
  },
  {
   "cell_type": "code",
   "execution_count": 23,
   "metadata": {
    "collapsed": false,
    "scrolled": true
   },
   "outputs": [
    {
     "name": "stdout",
     "output_type": "stream",
     "text": [
      "Accuracy: 0.863127\n",
      "\n"
     ]
    }
   ],
   "source": [
    "# Performance on Training Data\n",
    "# predict values using the training data\n",
    "nb_predict_train = nb_model.predict(X_train)\n",
    "\n",
    "#Accuracy\n",
    "print(\"Accuracy: {0:.6f}\".format(metrics.accuracy_score(y_train, nb_predict_train)))\n",
    "print()"
   ]
  },
  {
   "cell_type": "code",
   "execution_count": 24,
   "metadata": {
    "collapsed": false
   },
   "outputs": [
    {
     "name": "stdout",
     "output_type": "stream",
     "text": [
      "Accuracy: 0.863333\n",
      "\n"
     ]
    }
   ],
   "source": [
    "# predict values using the test data\n",
    "nb_predict_test = nb_model.predict(X_test)\n",
    "\n",
    "# trainint metrics\n",
    "print(\"Accuracy: {0:.6f}\".format(metrics.accuracy_score(y_test, nb_predict_test)))\n",
    "print()"
   ]
  },
  {
   "cell_type": "code",
   "execution_count": 25,
   "metadata": {
    "collapsed": false
   },
   "outputs": [
    {
     "name": "stdout",
     "output_type": "stream",
     "text": [
      "Confusion Matrix\n",
      "[[559776  11774]\n",
      " [ 83893  44557]]\n",
      "\n",
      "Classification Report\n",
      "             precision    recall  f1-score   support\n",
      "\n",
      "          1       0.87      0.98      0.92    571550\n",
      "          0       0.79      0.35      0.48    128450\n",
      "\n",
      "avg / total       0.86      0.86      0.84    700000\n",
      "\n"
     ]
    }
   ],
   "source": [
    "print(\"Confusion Matrix\")\n",
    "# Note the use of labels for set 1 = True to upper left and 0 = False to lower right\n",
    "print(\"{0}\".format(metrics.confusion_matrix(y_test, nb_predict_test, labels = [1, 0])))\n",
    "print(\"\")\n",
    "\n",
    "print(\"Classification Report\")\n",
    "print(metrics.classification_report(y_test, nb_predict_test, labels = [1, 0]))"
   ]
  },
  {
   "cell_type": "markdown",
   "metadata": {},
   "source": [
    "### Logistic Regression"
   ]
  },
  {
   "cell_type": "code",
   "execution_count": 26,
   "metadata": {
    "collapsed": false
   },
   "outputs": [
    {
     "data": {
      "text/plain": [
       "LogisticRegression(C=0.7, class_weight=None, dual=False, fit_intercept=True,\n",
       "          intercept_scaling=1, max_iter=100, multi_class='ovr', n_jobs=-1,\n",
       "          penalty='l1', random_state=42, solver='liblinear', tol=0.0001,\n",
       "          verbose=0, warm_start=False)"
      ]
     },
     "execution_count": 26,
     "metadata": {},
     "output_type": "execute_result"
    }
   ],
   "source": [
    "lr_model = lr_model = LogisticRegression(n_jobs=-1,C = 0.7, random_state = 42, penalty='l1')\n",
    "\n",
    "lr_model.fit(X_train, y_train.ravel())"
   ]
  },
  {
   "cell_type": "code",
   "execution_count": 27,
   "metadata": {
    "collapsed": false
   },
   "outputs": [
    {
     "name": "stdout",
     "output_type": "stream",
     "text": [
      "Accuracy: 0.8514\n",
      "\n"
     ]
    }
   ],
   "source": [
    "lr_predict_train = lr_model.predict(X_train)\n",
    "\n",
    "print(\"Accuracy: {0:.4f}\".format(metrics.accuracy_score(y_train, lr_predict_train)))\n",
    "print(\"\")"
   ]
  },
  {
   "cell_type": "code",
   "execution_count": 28,
   "metadata": {
    "collapsed": false
   },
   "outputs": [
    {
     "name": "stdout",
     "output_type": "stream",
     "text": [
      "Accuracy: 0.8514\n",
      "Recall: 0.9469\n",
      "\n"
     ]
    }
   ],
   "source": [
    "lr_predict_test = lr_model.predict(X_test)\n",
    "\n",
    "print(\"Accuracy: {0:.4f}\".format(metrics.accuracy_score(y_test, lr_predict_test)))\n",
    "print(\"Recall: {0:.4f}\".format(metrics.recall_score(y_test, lr_predict_test)))\n",
    "print(\"\")"
   ]
  },
  {
   "cell_type": "code",
   "execution_count": 29,
   "metadata": {
    "collapsed": false
   },
   "outputs": [
    {
     "name": "stdout",
     "output_type": "stream",
     "text": [
      "Confusion Matrix\n",
      "[[541213  30337]\n",
      " [ 73697  54753]]\n",
      "\n",
      "Classification Report\n",
      "             precision    recall  f1-score   support\n",
      "\n",
      "          1       0.88      0.95      0.91    571550\n",
      "          0       0.64      0.43      0.51    128450\n",
      "\n",
      "avg / total       0.84      0.85      0.84    700000\n",
      "\n"
     ]
    }
   ],
   "source": [
    "print(\"Confusion Matrix\")\n",
    "# Note the use of labels for set 1 = True to upper left and 0 = False to lower right\n",
    "print(\"{0}\".format(metrics.confusion_matrix(y_test, lr_predict_test, labels = [1, 0])))\n",
    "print(\"\")\n",
    "\n",
    "print(\"Classification Report\")\n",
    "print(metrics.classification_report(y_test, lr_predict_test, labels = [1, 0]))"
   ]
  },
  {
   "cell_type": "markdown",
   "metadata": {},
   "source": [
    "### Logistic CV"
   ]
  },
  {
   "cell_type": "code",
   "execution_count": 30,
   "metadata": {
    "collapsed": false
   },
   "outputs": [
    {
     "data": {
      "text/plain": [
       "LogisticRegressionCV(Cs=10, class_weight=None, cv=10, dual=False,\n",
       "           fit_intercept=True, intercept_scaling=1.0, max_iter=100,\n",
       "           multi_class='ovr', n_jobs=-1, penalty='l2', random_state=42,\n",
       "           refit=True, scoring=None, solver='lbfgs', tol=0.0001, verbose=0)"
      ]
     },
     "execution_count": 30,
     "metadata": {},
     "output_type": "execute_result"
    }
   ],
   "source": [
    "lr_cv_model = LogisticRegressionCV(n_jobs = -1, random_state = 42, cv = 10, refit = True)\n",
    "lr_cv_model.fit(X_train, y_train.ravel())"
   ]
  },
  {
   "cell_type": "code",
   "execution_count": 31,
   "metadata": {
    "collapsed": false
   },
   "outputs": [
    {
     "name": "stdout",
     "output_type": "stream",
     "text": [
      "Accuracy: 0.8510\n",
      "\n"
     ]
    }
   ],
   "source": [
    "lr_cv_predict_train = lr_cv_model.predict(X_train)\n",
    "\n",
    "print(\"Accuracy: {0:.4f}\".format(metrics.accuracy_score(y_train, lr_cv_predict_train)))\n",
    "print(\"\")"
   ]
  },
  {
   "cell_type": "code",
   "execution_count": 32,
   "metadata": {
    "collapsed": false
   },
   "outputs": [
    {
     "name": "stdout",
     "output_type": "stream",
     "text": [
      "Accuracy: 0.8512\n",
      "\n"
     ]
    }
   ],
   "source": [
    "lr_cv_predict_test = lr_cv_model.predict(X_test)\n",
    "\n",
    "print(\"Accuracy: {0:.4f}\".format(metrics.accuracy_score(y_test, lr_cv_predict_test)))\n",
    "print(\"\")"
   ]
  },
  {
   "cell_type": "code",
   "execution_count": 33,
   "metadata": {
    "collapsed": false
   },
   "outputs": [
    {
     "name": "stdout",
     "output_type": "stream",
     "text": [
      "Confusion Matrix\n",
      "[[537998  33552]\n",
      " [ 70618  57832]]\n",
      "\n",
      "Classification Report\n",
      "             precision    recall  f1-score   support\n",
      "\n",
      "          1       0.88      0.94      0.91    571550\n",
      "          0       0.63      0.45      0.53    128450\n",
      "\n",
      "avg / total       0.84      0.85      0.84    700000\n",
      "\n"
     ]
    }
   ],
   "source": [
    "print(\"Confusion Matrix\")\n",
    "print(metrics.confusion_matrix(y_test, lr_cv_predict_test, labels = [1, 0]))\n",
    "print(\"\")\n",
    "\n",
    "print(\"Classification Report\")\n",
    "print(metrics.classification_report(y_test, lr_cv_predict_test, labels = [1, 0]))"
   ]
  },
  {
   "cell_type": "markdown",
   "metadata": {},
   "source": [
    "## Improvement tries"
   ]
  },
  {
   "cell_type": "markdown",
   "metadata": {},
   "source": [
    "Now since we have rougly 70-30 split in our data regarding true and false outcomes, we know the class is unbalanced and it should be because people do not misswrite 50% of the adresses. Ergo we do not need to ponder about this.\n",
    "\n",
    "Moving on, the first thing to try is to increase the recall score which is a metric for the models performance since it is calcultated based upon how good the model was at predicting the outcome.\n",
    "http://stackoverflow.com/questions/31421413/how-to-compute-precision-recall-accuracy-and-f1-score-for-the-multiclass-case\n",
    "http://stackoverflow.com/questions/30746460/how-to-interpret-scikits-learn-confusion-matrix-and-classification-report"
   ]
  },
  {
   "cell_type": "markdown",
   "metadata": {},
   "source": [
    "# Lets start with trying to find the best parameters for regular logistic"
   ]
  },
  {
   "cell_type": "markdown",
   "metadata": {},
   "source": [
    "Firt lets try to get the highest recall score based on the regularization varible C, which is the inverse of the regularization strentgh, ergo the lower value the stronger regularization"
   ]
  },
  {
   "cell_type": "code",
   "execution_count": 34,
   "metadata": {
    "collapsed": false
   },
   "outputs": [],
   "source": [
    "import pandas as pd              # pandas is a dataframe library\n",
    "import matplotlib.pyplot as plt  # matplotlib.pyplot plots data\n",
    "import numpy as np               # numpy provides N-dim object support\n",
    "\n",
    "# do ploting inline instead of in a separate window\n",
    "%matplotlib inline\n",
    "\n",
    "### Algorithms ###\n",
    "from sklearn.naive_bayes import GaussianNB\n",
    "from sklearn.linear_model import LogisticRegression\n",
    "from sklearn.ensemble import RandomForestClassifier\n",
    "### Cross Validation ###\n",
    "from sklearn.linear_model import LogisticRegressionCV\n",
    "from sklearn.model_selection import cross_val_predict, KFold\n",
    "### Splitting the data ###\n",
    "from sklearn.model_selection import train_test_split \n",
    "### Evaluation metrics ###\n",
    "from sklearn import metrics"
   ]
  },
  {
   "cell_type": "code",
   "execution_count": 37,
   "metadata": {
    "collapsed": false
   },
   "outputs": [
    {
     "name": "stdout",
     "output_type": "stream",
     "text": [
      "[  1.66810054e-08]\n",
      "Accuracy: 0.7670286 AccuracyCV: 0.8834314 AccuracyCVS: 0.7666286\n",
      "AccuracyNB: 0.8633329 AccuracyNBCVS: 0.8633700\n",
      "AccuracyRF: 1.0000000 AccuracyRF: 1.0000000\n",
      "Recall: 0.7610078 RecallCV: 1.0000000 RecallCVS: 0.7604846\n",
      "RecallNB: 0.9793999 RecallNBCVS: 0.9793421\n",
      "RecallRF: 1.0000000 RecallRFCV: 1.0000000\n",
      "[[434954 136596]\n",
      " [ 26484 101966]]\n",
      "[[571550      0]\n",
      " [ 81598  46852]]\n",
      "[[434655 136895]\n",
      " [ 26465 101985]]\n",
      "[[559776  11774]\n",
      " [ 83893  44557]]\n",
      "[[559743  11807]\n",
      " [ 83834  44616]]\n",
      "[[571550      0]\n",
      " [     0 128450]]\n",
      "[[571550      0]\n",
      " [     0 128450]]\n"
     ]
    }
   ],
   "source": [
    "# The data is split into test and training sets using a 70-30 split\n",
    "# First we need to define the features to be used and the class to predict\n",
    "#feature_col_names = ['Name', 'City', 'Street', 'StreetNr', 'Zip Code']\n",
    "#prediction_class_name = ['Legitimate']\n",
    "\n",
    "#X = df[feature_col_names].values     # predictor feature columns\n",
    "#y = df[prediction_class_name].values # predicted class (1 = true, 0 = false) column\n",
    "\n",
    "#split_test_size = 0.70  #70.00% in test set, 30.00% in training set\n",
    "\n",
    "# Split the data using the built in train_test_split function\n",
    "# Which gives us:\n",
    "# X_train = addresses in training set\n",
    "# y_train = actual class of the addresses in X_train\n",
    "# X_test = addresses in test set\n",
    "# y_test = actual class of the addresses in X_test\n",
    "\n",
    "#X_train, X_test, y_train, y_test = train_test_split(X, y, test_size = split_test_size, random_state = 42)\n",
    "\n",
    "#print(metrics.classification_report(y_test, rf_predict_test, labels = [1, 0]))\n",
    "\n",
    "\n",
    "\n",
    "\n",
    "\n",
    "\n",
    "\n",
    "\n",
    "# make a list of logarithmic values to use in LRCV\n",
    "cslist = np.logspace(-10, 10, 100)\n",
    "\n",
    "# The models\n",
    "model = LogisticRegression(n_jobs=-1, C = 1.0, random_state = 42, class_weight='balanced')\n",
    "# Standard LogReg were:\n",
    "# n_jobs is the number of CPU cores to be used for the calculations, -1 equals to all cores\n",
    "# C is the inverse of regularization strength, smaller values lead to stronger regularization, default 1.0\n",
    "# random_state is the random seed to be used when shuffeling the data\n",
    "modelcv = LogisticRegressionCV(n_jobs = -1, cv = 10, refit = True, random_state = 42, scoring='accuracy', Cs = cslist)\n",
    "# LogReg that uses cross validation to find the best regularization parameter for the scoring parameter chosen\n",
    "# It then uses this new parameter value to return the value of the scoring parameter\n",
    "# n_jobs is the number of CPU cores to be used for the calculations, , -1 equals to all cores\n",
    "# refit decides if the scores should be averaged over all folds \n",
    "# and the best score values are then used for a new run of the algorithm, otherwise all the scores are averaged\n",
    "# random_state is the random seed to be used when shuffeling the data\n",
    "modelNB = GaussianNB()\n",
    "\n",
    "modelRF = RandomForestClassifier(random_state=42, n_jobs=-1,n_estimators=3)\n",
    "modelRF.fit(X_train, y_train.ravel())\n",
    "predictRF = modelRF.predict(X_test)\n",
    "\n",
    "\n",
    "# First we train the model as normal\n",
    "model.fit(X_train, y_train.ravel())\n",
    "modelNB.fit(X_train, y_train.ravel())\n",
    "\n",
    "# Then we get a prediction on the test data\n",
    "predict = model.predict(X_test)\n",
    "predictNB = modelNB.predict(X_test)\n",
    "\n",
    "\n",
    "trainedcv = modelcv.fit(X_train, y_train.ravel())\n",
    "predictcv = modelcv.predict(X_test)\n",
    "\n",
    "kf = KFold(n_splits=10, random_state=42)\n",
    "predictcv2 = cross_val_predict(model, X_test, y_test.ravel(), cv=kf)\n",
    "predictNBcv = cross_val_predict(modelNB, X_test, y_test.ravel(), cv=kf)\n",
    "predictRFCV = cross_val_predict(modelRF, X_test, y_test.ravel(), cv=kf)\n",
    "\n",
    "cvC = trainedcv.C_\n",
    "\n",
    "print (cvC)\n",
    "\n",
    "\n",
    "\n",
    "#modellr2 = LogisticRegression(n_jobs=-1, C = cvC, random_state = 42)\n",
    "#modellr2.fit(X_train, y_train.ravel())\n",
    "#predictlr2 = modellr2.predict(X_test)\n",
    "\n",
    "print (\"Accuracy: {0:.7f}\".format(metrics.accuracy_score(y_test.ravel(), predict)),\n",
    "       #\"Accuracy: {0:.7f}\".format(metrics.accuracy_score(y_test.ravel(), predictlr2)),\n",
    "       \"AccuracyCV: {0:.7f}\".format(metrics.accuracy_score(y_test.ravel(), predictcv)),\n",
    "       \"AccuracyCVS: {0:.7f}\".format(metrics.accuracy_score(y_test.ravel(), predictcv2)))\n",
    "\n",
    "print (\"AccuracyNB: {0:.7f}\".format(metrics.accuracy_score(y_test.ravel(), predictNB)),\n",
    "       \"AccuracyNBCVS: {0:.7f}\".format(metrics.accuracy_score(y_test.ravel(), predictNBcv)))\n",
    "\n",
    "print (\"AccuracyRF: {0:.7f}\".format(metrics.accuracy_score(y_test.ravel(), predictRF)),\n",
    "       \"AccuracyRF: {0:.7f}\".format(metrics.accuracy_score(y_test.ravel(), predictRFCV)))\n",
    "\n",
    "print (\"Recall: {0:.7f}\".format(metrics.recall_score(y_test.ravel(), predict)),\n",
    "       #\"Recall: {0:.7f}\".format(metrics.recall_score(y_test.ravel(), predictlr2)),\n",
    "       \"RecallCV: {0:.7f}\".format(metrics.recall_score(y_test.ravel(), predictcv)), \n",
    "       \"RecallCVS: {0:.7f}\".format(metrics.recall_score(y_test.ravel(), predictcv2)))\n",
    "\n",
    "print(\"RecallNB: {0:.7f}\".format(metrics.recall_score(y_test.ravel(), predictNB)),\n",
    "      \"RecallNBCVS: {0:.7f}\".format(metrics.recall_score(y_test.ravel(), predictNBcv)))\n",
    "        \n",
    "print(\"RecallRF: {0:.7f}\".format(metrics.recall_score(y_test.ravel(), predictRF)),\n",
    "      \"RecallRFCV: {0:.7f}\".format(metrics.recall_score(y_test.ravel(), predictRFCV)))\n",
    "\n",
    "print(\"{0}\".format(metrics.confusion_matrix(y_test, predict, labels = [1, 0])))\n",
    "#print(\"{0}\".format(metrics.confusion_matrix(y_test, predictlr2, labels = [1, 0])))\n",
    "print(\"{0}\".format(metrics.confusion_matrix(y_test, predictcv, labels = [1, 0])))\n",
    "print(\"{0}\".format(metrics.confusion_matrix(y_test, predictcv2, labels = [1, 0])))\n",
    "print(\"{0}\".format(metrics.confusion_matrix(y_test, predictNB, labels = [1, 0])))\n",
    "print(\"{0}\".format(metrics.confusion_matrix(y_test, predictNBcv, labels = [1, 0])))\n",
    "print(\"{0}\".format(metrics.confusion_matrix(y_test, predictRF, labels = [1, 0])))\n",
    "print(\"{0}\".format(metrics.confusion_matrix(y_test, predictRFCV, labels = [1, 0])))\n",
    "#[[True-Positive, False-Negative]\n",
    "#[False-Positive, True-Negative]]"
   ]
  },
  {
   "cell_type": "code",
   "execution_count": null,
   "metadata": {
    "collapsed": false
   },
   "outputs": [],
   "source": [
    "print (predict)"
   ]
  },
  {
   "cell_type": "markdown",
   "metadata": {
    "collapsed": false
   },
   "source": [
    "'''\n",
    "C_start = 0.0000001\n",
    "C_end = 0.000001\n",
    "C_increment = 0.00000001\n",
    "\n",
    "#start at 0.1 as C then go all the way up to 5 to find the best fit\n",
    "C_values, recall_scores = [], []\n",
    "#save the recall score and the C\n",
    "\n",
    "C_val = C_start\n",
    "#what we are looking for \n",
    "best_recall_score = 0\n",
    "\n",
    "while (C_val < C_end):\n",
    "    C_values.append(C_val)\n",
    "    #train\n",
    "    lr_model_loop = LogisticRegression(C=C_val, random_state=42)\n",
    "    lr_model_loop.fit(X_train, y_train.ravel())\n",
    "    #predict\n",
    "    lr_predict_loop_test = lr_model_loop.predict(X_test)\n",
    "    recall_score = metrics.recall_score(y_test, lr_predict_loop_test)\n",
    "    recall_scores.append(recall_score)\n",
    "    #save the best value\n",
    "    if(recall_score > best_recall_score):\n",
    "        best_recall_score = recall_score\n",
    "        best_lr_predict_test = lr_predict_loop_test\n",
    "    #increment the c val\n",
    "    C_val = C_val + C_increment\n",
    "\n",
    "#plot the regulazation values vs the recall score\n",
    "best_score_C_val = C_values[recall_scores.index(best_recall_score)]\n",
    "print(\"1st max recall {0:.10f} at C={1:.10f}\".format(best_recall_score, best_score_C_val))\n",
    "print(\"Acc {0:.10f}\".format(metrics.accuracy_score(y_test.ravel(), lr_predict_loop_test)))\n",
    "'''"
   ]
  },
  {
   "cell_type": "markdown",
   "metadata": {},
   "source": [
    "### The above loop takes 4ever to run\n"
   ]
  }
 ],
 "metadata": {
  "kernelspec": {
   "display_name": "Python 3",
   "language": "python",
   "name": "python3"
  },
  "language_info": {
   "codemirror_mode": {
    "name": "ipython",
    "version": 3
   },
   "file_extension": ".py",
   "mimetype": "text/x-python",
   "name": "python",
   "nbconvert_exporter": "python",
   "pygments_lexer": "ipython3",
   "version": "3.6.0"
  }
 },
 "nbformat": 4,
 "nbformat_minor": 2
}
