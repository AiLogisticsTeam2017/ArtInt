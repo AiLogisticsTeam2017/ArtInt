{
 "cells": [
  {
   "cell_type": "markdown",
   "metadata": {},
   "source": [
    "# This is where we use the Algorithms"
   ]
  },
  {
   "cell_type": "code",
   "execution_count": 1,
   "metadata": {
    "collapsed": false,
    "scrolled": true
   },
   "outputs": [
    {
     "name": "stderr",
     "output_type": "stream",
     "text": [
      "C:\\Users\\vikander\\AppData\\Local\\Continuum\\Anaconda33\\lib\\site-packages\\sklearn\\cross_validation.py:44: DeprecationWarning: This module was deprecated in version 0.18 in favor of the model_selection module into which all the refactored classes and functions are moved. Also note that the interface of the new CV iterators are different from that of this module. This module will be removed in 0.20.\n",
      "  \"This module will be removed in 0.20.\", DeprecationWarning)\n"
     ]
    }
   ],
   "source": [
    "# TODO: Write a guide on what you need, https://anaconda.org/anaconda/gensim <---- Gensim\n",
    "#       What does the error message mean?\n",
    "\n",
    "import pandas as pd              # pandas is a dataframe library\n",
    "import matplotlib.pyplot as plt  # matplotlib.pyplot plots data\n",
    "import numpy as np               # numpy provides N-dim object support\n",
    "\n",
    "# do ploting inline instead of in a separate window\n",
    "%matplotlib inline\n",
    "\n",
    "### Algorithms ###\n",
    "from sklearn.naive_bayes import GaussianNB\n",
    "from sklearn.linear_model import LogisticRegression\n",
    "from sklearn.linear_model import LogisticRegressionCV\n",
    "from sklearn.ensemble import RandomForestClassifier\n",
    "\n",
    "from sklearn.cross_validation import train_test_split # Used to split data into Training set and Test Set"
   ]
  },
  {
   "cell_type": "markdown",
   "metadata": {},
   "source": [
    "## Loading Files"
   ]
  },
  {
   "cell_type": "code",
   "execution_count": 2,
   "metadata": {
    "collapsed": true
   },
   "outputs": [],
   "source": [
    "# Load the post data\n",
    "#df = pd.read_csv(\"../alteredData.csv\")\n",
    "#df = pd.read_csv(\"../alteredData100k.csv\")\n",
    "df = pd.read_csv(\"../alteredData1M.csv\")\n",
    "#df1 = pd.read_csv(\"../data.csv\")"
   ]
  },
  {
   "cell_type": "markdown",
   "metadata": {},
   "source": [
    "## Preprocessing with a Custom Hot One Encoding"
   ]
  },
  {
   "cell_type": "code",
   "execution_count": 3,
   "metadata": {
    "collapsed": false,
    "scrolled": false
   },
   "outputs": [],
   "source": [
    "# http://stackoverflow.com/questions/37292872/how-can-i-one-hot-encode-in-python <--- This is dank stuff\n",
    "\n",
    "#TODO:\n",
    "# Concider changing this to Word Embedding instead (Gensim)\n",
    "# Concider to add new information instead of re-reading everything\n",
    "# Should be saved into three different file?\n",
    "\n",
    "#from sklearn.feature_extraction import DictVectorizer\n",
    "#dictVector = DictVectorizer(sparse = False, sort = False)\n",
    "#qualitative_features = ['Name', 'Street', 'City']\n",
    "#X_qual = dictVector.fit_transform(df[qualitative_features].to_dict('records'))\n",
    "# Print the List\n",
    "#dictVector.vocabulary_"
   ]
  },
  {
   "cell_type": "code",
   "execution_count": 4,
   "metadata": {
    "collapsed": false
   },
   "outputs": [],
   "source": [
    "# Sanity Check\n",
    "#df.ix[[0, 33, 39, 55]]"
   ]
  },
  {
   "cell_type": "code",
   "execution_count": 5,
   "metadata": {
    "collapsed": false
   },
   "outputs": [],
   "source": [
    "# Debug #\n",
    "#df.loc[df['Name'] == 7]\n",
    "#df1.head()"
   ]
  },
  {
   "cell_type": "code",
   "execution_count": 6,
   "metadata": {
    "collapsed": false
   },
   "outputs": [],
   "source": [
    "#df.head()"
   ]
  },
  {
   "cell_type": "code",
   "execution_count": 7,
   "metadata": {
    "collapsed": false,
    "scrolled": false
   },
   "outputs": [
    {
     "data": {
      "text/html": [
       "<div>\n",
       "<table border=\"1\" class=\"dataframe\">\n",
       "  <thead>\n",
       "    <tr style=\"text-align: right;\">\n",
       "      <th></th>\n",
       "      <th>Name</th>\n",
       "      <th>Street</th>\n",
       "      <th>StreetNr</th>\n",
       "      <th>Zip Code</th>\n",
       "      <th>City</th>\n",
       "      <th>Legitimate</th>\n",
       "    </tr>\n",
       "  </thead>\n",
       "  <tbody>\n",
       "    <tr>\n",
       "      <th>1</th>\n",
       "      <td>missing</td>\n",
       "      <td>Almstigen</td>\n",
       "      <td>64</td>\n",
       "      <td>75165.0</td>\n",
       "      <td>Uppsala</td>\n",
       "      <td>False</td>\n",
       "    </tr>\n",
       "    <tr>\n",
       "      <th>2</th>\n",
       "      <td>Heriberto Mcguffie</td>\n",
       "      <td>missing</td>\n",
       "      <td>21</td>\n",
       "      <td>9714.0</td>\n",
       "      <td>Lulea</td>\n",
       "      <td>False</td>\n",
       "    </tr>\n",
       "    <tr>\n",
       "      <th>10</th>\n",
       "      <td>missing</td>\n",
       "      <td>Krokiusgatan</td>\n",
       "      <td>23</td>\n",
       "      <td>35174.0</td>\n",
       "      <td>Vaxjo</td>\n",
       "      <td>False</td>\n",
       "    </tr>\n",
       "    <tr>\n",
       "      <th>16</th>\n",
       "      <td>Myong Lofthouse</td>\n",
       "      <td>missing</td>\n",
       "      <td>4</td>\n",
       "      <td>80114.0</td>\n",
       "      <td>Gavle</td>\n",
       "      <td>False</td>\n",
       "    </tr>\n",
       "    <tr>\n",
       "      <th>24</th>\n",
       "      <td>missing</td>\n",
       "      <td>missing</td>\n",
       "      <td>23</td>\n",
       "      <td>22175.0</td>\n",
       "      <td>Lund</td>\n",
       "      <td>False</td>\n",
       "    </tr>\n",
       "    <tr>\n",
       "      <th>27</th>\n",
       "      <td>Detra Trainer</td>\n",
       "      <td>missing</td>\n",
       "      <td>27</td>\n",
       "      <td>11124.0</td>\n",
       "      <td>Stockholm</td>\n",
       "      <td>False</td>\n",
       "    </tr>\n",
       "    <tr>\n",
       "      <th>29</th>\n",
       "      <td>missing</td>\n",
       "      <td>Alegatan</td>\n",
       "      <td>39</td>\n",
       "      <td>25125.0</td>\n",
       "      <td>Helsingborg</td>\n",
       "      <td>False</td>\n",
       "    </tr>\n",
       "    <tr>\n",
       "      <th>40</th>\n",
       "      <td>Sabrina Mease</td>\n",
       "      <td>Betesbacken</td>\n",
       "      <td>18</td>\n",
       "      <td>8517.0</td>\n",
       "      <td>Sundsvall</td>\n",
       "      <td>False</td>\n",
       "    </tr>\n",
       "    <tr>\n",
       "      <th>43</th>\n",
       "      <td>Tiffaney Irvine</td>\n",
       "      <td>missing</td>\n",
       "      <td>57</td>\n",
       "      <td>55157.0</td>\n",
       "      <td>Jonkoping</td>\n",
       "      <td>False</td>\n",
       "    </tr>\n",
       "    <tr>\n",
       "      <th>49</th>\n",
       "      <td>missing</td>\n",
       "      <td>Odensbergsgatan</td>\n",
       "      <td>6</td>\n",
       "      <td>70178.0</td>\n",
       "      <td>Orebro</td>\n",
       "      <td>False</td>\n",
       "    </tr>\n",
       "    <tr>\n",
       "      <th>58</th>\n",
       "      <td>missing</td>\n",
       "      <td>Floragatan</td>\n",
       "      <td>69</td>\n",
       "      <td>58146.0</td>\n",
       "      <td>Linkoping</td>\n",
       "      <td>False</td>\n",
       "    </tr>\n",
       "    <tr>\n",
       "      <th>70</th>\n",
       "      <td>Brigid Macleod</td>\n",
       "      <td>Akutgatan</td>\n",
       "      <td>43</td>\n",
       "      <td>-1.0</td>\n",
       "      <td>Lund</td>\n",
       "      <td>False</td>\n",
       "    </tr>\n",
       "    <tr>\n",
       "      <th>71</th>\n",
       "      <td>Tiffaney Irvine</td>\n",
       "      <td>Larmtorget</td>\n",
       "      <td>32</td>\n",
       "      <td>3914.0</td>\n",
       "      <td>Kalmar</td>\n",
       "      <td>False</td>\n",
       "    </tr>\n",
       "    <tr>\n",
       "      <th>81</th>\n",
       "      <td>Savanna Mcmullin</td>\n",
       "      <td>Bohusgatan</td>\n",
       "      <td>2</td>\n",
       "      <td>-1.0</td>\n",
       "      <td>Halmstad</td>\n",
       "      <td>False</td>\n",
       "    </tr>\n",
       "    <tr>\n",
       "      <th>93</th>\n",
       "      <td>Florentina Brassard</td>\n",
       "      <td>missing</td>\n",
       "      <td>1</td>\n",
       "      <td>21164.0</td>\n",
       "      <td>Malmo</td>\n",
       "      <td>False</td>\n",
       "    </tr>\n",
       "    <tr>\n",
       "      <th>94</th>\n",
       "      <td>Ellie Graziano</td>\n",
       "      <td>Nyhem</td>\n",
       "      <td>37</td>\n",
       "      <td>9019.0</td>\n",
       "      <td>Umea</td>\n",
       "      <td>False</td>\n",
       "    </tr>\n",
       "    <tr>\n",
       "      <th>102</th>\n",
       "      <td>Delbert Havard</td>\n",
       "      <td>missing</td>\n",
       "      <td>95</td>\n",
       "      <td>70178.0</td>\n",
       "      <td>Orebro</td>\n",
       "      <td>False</td>\n",
       "    </tr>\n",
       "    <tr>\n",
       "      <th>105</th>\n",
       "      <td>Bernetta Rountree</td>\n",
       "      <td>Odensbergsgatan</td>\n",
       "      <td>73</td>\n",
       "      <td>-1.0</td>\n",
       "      <td>Orebro</td>\n",
       "      <td>False</td>\n",
       "    </tr>\n",
       "    <tr>\n",
       "      <th>109</th>\n",
       "      <td>Linsey Jacoby</td>\n",
       "      <td>Dagsberg</td>\n",
       "      <td>77</td>\n",
       "      <td>6012.0</td>\n",
       "      <td>Norrkoping</td>\n",
       "      <td>False</td>\n",
       "    </tr>\n",
       "    <tr>\n",
       "      <th>112</th>\n",
       "      <td>Brittanie Mcfaul</td>\n",
       "      <td>missing</td>\n",
       "      <td>37</td>\n",
       "      <td>11125.0</td>\n",
       "      <td>Stockholm</td>\n",
       "      <td>False</td>\n",
       "    </tr>\n",
       "    <tr>\n",
       "      <th>114</th>\n",
       "      <td>Loreta Mobley</td>\n",
       "      <td>Dagsberg</td>\n",
       "      <td>47</td>\n",
       "      <td>-1.0</td>\n",
       "      <td>Norrkoping</td>\n",
       "      <td>False</td>\n",
       "    </tr>\n",
       "    <tr>\n",
       "      <th>128</th>\n",
       "      <td>Perry Didonna</td>\n",
       "      <td>missing</td>\n",
       "      <td>29</td>\n",
       "      <td>72148.0</td>\n",
       "      <td>Vasteras</td>\n",
       "      <td>False</td>\n",
       "    </tr>\n",
       "    <tr>\n",
       "      <th>134</th>\n",
       "      <td>Gladis Dunlap</td>\n",
       "      <td>Pilgatan</td>\n",
       "      <td>39</td>\n",
       "      <td>-1.0</td>\n",
       "      <td>Goteborg</td>\n",
       "      <td>False</td>\n",
       "    </tr>\n",
       "    <tr>\n",
       "      <th>143</th>\n",
       "      <td>Jeanie Lansford</td>\n",
       "      <td>Aberga</td>\n",
       "      <td>3</td>\n",
       "      <td>-1.0</td>\n",
       "      <td>Vasteras</td>\n",
       "      <td>False</td>\n",
       "    </tr>\n",
       "    <tr>\n",
       "      <th>155</th>\n",
       "      <td>Savanna Mcmullin</td>\n",
       "      <td>missing</td>\n",
       "      <td>71</td>\n",
       "      <td>35174.0</td>\n",
       "      <td>Vaxjo</td>\n",
       "      <td>False</td>\n",
       "    </tr>\n",
       "    <tr>\n",
       "      <th>156</th>\n",
       "      <td>missing</td>\n",
       "      <td>Aktergatan</td>\n",
       "      <td>22</td>\n",
       "      <td>11124.0</td>\n",
       "      <td>Stockholm</td>\n",
       "      <td>False</td>\n",
       "    </tr>\n",
       "    <tr>\n",
       "      <th>157</th>\n",
       "      <td>Lula Groom</td>\n",
       "      <td>Almstigen</td>\n",
       "      <td>46</td>\n",
       "      <td>-1.0</td>\n",
       "      <td>Uppsala</td>\n",
       "      <td>False</td>\n",
       "    </tr>\n",
       "    <tr>\n",
       "      <th>162</th>\n",
       "      <td>missing</td>\n",
       "      <td>Aberga</td>\n",
       "      <td>57</td>\n",
       "      <td>72148.0</td>\n",
       "      <td>Vasteras</td>\n",
       "      <td>False</td>\n",
       "    </tr>\n",
       "    <tr>\n",
       "      <th>173</th>\n",
       "      <td>Brittanie Mcfaul</td>\n",
       "      <td>Bohusgatan</td>\n",
       "      <td>34</td>\n",
       "      <td>3014.0</td>\n",
       "      <td>Halmstad</td>\n",
       "      <td>False</td>\n",
       "    </tr>\n",
       "    <tr>\n",
       "      <th>174</th>\n",
       "      <td>Willis Axford</td>\n",
       "      <td>Nyhem</td>\n",
       "      <td>5</td>\n",
       "      <td>-1.0</td>\n",
       "      <td>Umea</td>\n",
       "      <td>False</td>\n",
       "    </tr>\n",
       "    <tr>\n",
       "      <th>...</th>\n",
       "      <td>...</td>\n",
       "      <td>...</td>\n",
       "      <td>...</td>\n",
       "      <td>...</td>\n",
       "      <td>...</td>\n",
       "      <td>...</td>\n",
       "    </tr>\n",
       "    <tr>\n",
       "      <th>999840</th>\n",
       "      <td>missing</td>\n",
       "      <td>Krokiusgatan</td>\n",
       "      <td>32</td>\n",
       "      <td>35174.0</td>\n",
       "      <td>Vaxjo</td>\n",
       "      <td>False</td>\n",
       "    </tr>\n",
       "    <tr>\n",
       "      <th>999844</th>\n",
       "      <td>Susannah Lino</td>\n",
       "      <td>Larmtorget</td>\n",
       "      <td>11</td>\n",
       "      <td>3914.0</td>\n",
       "      <td>Kalmar</td>\n",
       "      <td>False</td>\n",
       "    </tr>\n",
       "    <tr>\n",
       "      <th>999849</th>\n",
       "      <td>Cordia Bunge</td>\n",
       "      <td>missing</td>\n",
       "      <td>1</td>\n",
       "      <td>7017.0</td>\n",
       "      <td>Orebro</td>\n",
       "      <td>False</td>\n",
       "    </tr>\n",
       "    <tr>\n",
       "      <th>999854</th>\n",
       "      <td>Lauralee Selle</td>\n",
       "      <td>Nyhem</td>\n",
       "      <td>39</td>\n",
       "      <td>-1.0</td>\n",
       "      <td>Umea</td>\n",
       "      <td>False</td>\n",
       "    </tr>\n",
       "    <tr>\n",
       "      <th>999858</th>\n",
       "      <td>Eduardo Venters</td>\n",
       "      <td>Aberga</td>\n",
       "      <td>67</td>\n",
       "      <td>7214.0</td>\n",
       "      <td>Vasteras</td>\n",
       "      <td>False</td>\n",
       "    </tr>\n",
       "    <tr>\n",
       "      <th>999860</th>\n",
       "      <td>Anneliese Laber</td>\n",
       "      <td>missing</td>\n",
       "      <td>94</td>\n",
       "      <td>30147.0</td>\n",
       "      <td>Halmstad</td>\n",
       "      <td>False</td>\n",
       "    </tr>\n",
       "    <tr>\n",
       "      <th>999874</th>\n",
       "      <td>Joleen Bright</td>\n",
       "      <td>Adjunktsgatan</td>\n",
       "      <td>2</td>\n",
       "      <td>-1.0</td>\n",
       "      <td>Malmo</td>\n",
       "      <td>False</td>\n",
       "    </tr>\n",
       "    <tr>\n",
       "      <th>999880</th>\n",
       "      <td>Marguerita Tilley</td>\n",
       "      <td>Dagsberg</td>\n",
       "      <td>61</td>\n",
       "      <td>-1.0</td>\n",
       "      <td>Norrkoping</td>\n",
       "      <td>False</td>\n",
       "    </tr>\n",
       "    <tr>\n",
       "      <th>999885</th>\n",
       "      <td>missing</td>\n",
       "      <td>Akutgatan</td>\n",
       "      <td>59</td>\n",
       "      <td>22175.0</td>\n",
       "      <td>Lund</td>\n",
       "      <td>False</td>\n",
       "    </tr>\n",
       "    <tr>\n",
       "      <th>999887</th>\n",
       "      <td>missing</td>\n",
       "      <td>Allhelgonagatan</td>\n",
       "      <td>22</td>\n",
       "      <td>11125.0</td>\n",
       "      <td>Stockholm</td>\n",
       "      <td>False</td>\n",
       "    </tr>\n",
       "    <tr>\n",
       "      <th>999888</th>\n",
       "      <td>missing</td>\n",
       "      <td>Ekorrstigen</td>\n",
       "      <td>59</td>\n",
       "      <td>97146.0</td>\n",
       "      <td>Lulea</td>\n",
       "      <td>False</td>\n",
       "    </tr>\n",
       "    <tr>\n",
       "      <th>999889</th>\n",
       "      <td>Bianca Velasques</td>\n",
       "      <td>Mineralgatan</td>\n",
       "      <td>16</td>\n",
       "      <td>6315.0</td>\n",
       "      <td>Eskilstuna</td>\n",
       "      <td>False</td>\n",
       "    </tr>\n",
       "    <tr>\n",
       "      <th>999890</th>\n",
       "      <td>missing</td>\n",
       "      <td>Bergsbogatan</td>\n",
       "      <td>86</td>\n",
       "      <td>50136.0</td>\n",
       "      <td>Boras</td>\n",
       "      <td>False</td>\n",
       "    </tr>\n",
       "    <tr>\n",
       "      <th>999906</th>\n",
       "      <td>Savanna Mcmullin</td>\n",
       "      <td>Mineralgatan</td>\n",
       "      <td>90</td>\n",
       "      <td>-1.0</td>\n",
       "      <td>Eskilstuna</td>\n",
       "      <td>False</td>\n",
       "    </tr>\n",
       "    <tr>\n",
       "      <th>999919</th>\n",
       "      <td>missing</td>\n",
       "      <td>Bergsbogatan</td>\n",
       "      <td>42</td>\n",
       "      <td>50136.0</td>\n",
       "      <td>Boras</td>\n",
       "      <td>False</td>\n",
       "    </tr>\n",
       "    <tr>\n",
       "      <th>999926</th>\n",
       "      <td>Nilsa Teneyck</td>\n",
       "      <td>Boberg</td>\n",
       "      <td>72</td>\n",
       "      <td>-1.0</td>\n",
       "      <td>Kalrlstad</td>\n",
       "      <td>False</td>\n",
       "    </tr>\n",
       "    <tr>\n",
       "      <th>999927</th>\n",
       "      <td>missing</td>\n",
       "      <td>Boberg</td>\n",
       "      <td>30</td>\n",
       "      <td>65135.0</td>\n",
       "      <td>Kalrlstad</td>\n",
       "      <td>False</td>\n",
       "    </tr>\n",
       "    <tr>\n",
       "      <th>999932</th>\n",
       "      <td>Slyvia Lashley</td>\n",
       "      <td>Ekorrstigen</td>\n",
       "      <td>43</td>\n",
       "      <td>9714.0</td>\n",
       "      <td>Lulea</td>\n",
       "      <td>False</td>\n",
       "    </tr>\n",
       "    <tr>\n",
       "      <th>999935</th>\n",
       "      <td>Lissette English</td>\n",
       "      <td>missing</td>\n",
       "      <td>6</td>\n",
       "      <td>85176.0</td>\n",
       "      <td>Sundsvall</td>\n",
       "      <td>False</td>\n",
       "    </tr>\n",
       "    <tr>\n",
       "      <th>999939</th>\n",
       "      <td>Verda Faris</td>\n",
       "      <td>Ekorrstigen</td>\n",
       "      <td>85</td>\n",
       "      <td>-1.0</td>\n",
       "      <td>Lulea</td>\n",
       "      <td>False</td>\n",
       "    </tr>\n",
       "    <tr>\n",
       "      <th>999943</th>\n",
       "      <td>Caron Neal</td>\n",
       "      <td>Aberga</td>\n",
       "      <td>48</td>\n",
       "      <td>7214.0</td>\n",
       "      <td>Vasteras</td>\n",
       "      <td>False</td>\n",
       "    </tr>\n",
       "    <tr>\n",
       "      <th>999947</th>\n",
       "      <td>Nilsa Teneyck</td>\n",
       "      <td>Larmtorget</td>\n",
       "      <td>90</td>\n",
       "      <td>3914.0</td>\n",
       "      <td>Kalmar</td>\n",
       "      <td>False</td>\n",
       "    </tr>\n",
       "    <tr>\n",
       "      <th>999951</th>\n",
       "      <td>missing</td>\n",
       "      <td>Dagsberg</td>\n",
       "      <td>63</td>\n",
       "      <td>60124.0</td>\n",
       "      <td>Norrkoping</td>\n",
       "      <td>False</td>\n",
       "    </tr>\n",
       "    <tr>\n",
       "      <th>999955</th>\n",
       "      <td>missing</td>\n",
       "      <td>Betesbacken</td>\n",
       "      <td>25</td>\n",
       "      <td>-1.0</td>\n",
       "      <td>Sundsvall</td>\n",
       "      <td>False</td>\n",
       "    </tr>\n",
       "    <tr>\n",
       "      <th>999960</th>\n",
       "      <td>Ross Bell</td>\n",
       "      <td>missing</td>\n",
       "      <td>25</td>\n",
       "      <td>72148.0</td>\n",
       "      <td>Vasteras</td>\n",
       "      <td>False</td>\n",
       "    </tr>\n",
       "    <tr>\n",
       "      <th>999968</th>\n",
       "      <td>Laronda Wenner</td>\n",
       "      <td>missing</td>\n",
       "      <td>20</td>\n",
       "      <td>75165.0</td>\n",
       "      <td>Uppsala</td>\n",
       "      <td>False</td>\n",
       "    </tr>\n",
       "    <tr>\n",
       "      <th>999976</th>\n",
       "      <td>Joleen Bright</td>\n",
       "      <td>Akutgatan</td>\n",
       "      <td>83</td>\n",
       "      <td>221.0</td>\n",
       "      <td>Lund</td>\n",
       "      <td>False</td>\n",
       "    </tr>\n",
       "    <tr>\n",
       "      <th>999981</th>\n",
       "      <td>missing</td>\n",
       "      <td>Ankargatan</td>\n",
       "      <td>69</td>\n",
       "      <td>55157.0</td>\n",
       "      <td>Jonkoping</td>\n",
       "      <td>False</td>\n",
       "    </tr>\n",
       "    <tr>\n",
       "      <th>999997</th>\n",
       "      <td>Andra Herbert</td>\n",
       "      <td>Bohusgatan</td>\n",
       "      <td>72</td>\n",
       "      <td>3014.0</td>\n",
       "      <td>Halmstad</td>\n",
       "      <td>False</td>\n",
       "    </tr>\n",
       "    <tr>\n",
       "      <th>999998</th>\n",
       "      <td>Perry Didonna</td>\n",
       "      <td>Krokiusgatan</td>\n",
       "      <td>22</td>\n",
       "      <td>3517.0</td>\n",
       "      <td>Vaxjo</td>\n",
       "      <td>False</td>\n",
       "    </tr>\n",
       "  </tbody>\n",
       "</table>\n",
       "<p>184424 rows × 6 columns</p>\n",
       "</div>"
      ],
      "text/plain": [
       "                       Name           Street  StreetNr  Zip Code         City  \\\n",
       "1                   missing        Almstigen        64   75165.0      Uppsala   \n",
       "2        Heriberto Mcguffie          missing        21    9714.0        Lulea   \n",
       "10                  missing     Krokiusgatan        23   35174.0        Vaxjo   \n",
       "16          Myong Lofthouse          missing         4   80114.0        Gavle   \n",
       "24                  missing          missing        23   22175.0         Lund   \n",
       "27            Detra Trainer          missing        27   11124.0    Stockholm   \n",
       "29                  missing         Alegatan        39   25125.0  Helsingborg   \n",
       "40            Sabrina Mease      Betesbacken        18    8517.0    Sundsvall   \n",
       "43          Tiffaney Irvine          missing        57   55157.0    Jonkoping   \n",
       "49                  missing  Odensbergsgatan         6   70178.0       Orebro   \n",
       "58                  missing       Floragatan        69   58146.0    Linkoping   \n",
       "70           Brigid Macleod        Akutgatan        43      -1.0         Lund   \n",
       "71          Tiffaney Irvine       Larmtorget        32    3914.0       Kalmar   \n",
       "81         Savanna Mcmullin       Bohusgatan         2      -1.0     Halmstad   \n",
       "93      Florentina Brassard          missing         1   21164.0        Malmo   \n",
       "94           Ellie Graziano            Nyhem        37    9019.0         Umea   \n",
       "102          Delbert Havard          missing        95   70178.0       Orebro   \n",
       "105       Bernetta Rountree  Odensbergsgatan        73      -1.0       Orebro   \n",
       "109           Linsey Jacoby         Dagsberg        77    6012.0   Norrkoping   \n",
       "112        Brittanie Mcfaul          missing        37   11125.0    Stockholm   \n",
       "114           Loreta Mobley         Dagsberg        47      -1.0   Norrkoping   \n",
       "128           Perry Didonna          missing        29   72148.0     Vasteras   \n",
       "134           Gladis Dunlap         Pilgatan        39      -1.0     Goteborg   \n",
       "143         Jeanie Lansford           Aberga         3      -1.0     Vasteras   \n",
       "155        Savanna Mcmullin          missing        71   35174.0        Vaxjo   \n",
       "156                 missing       Aktergatan        22   11124.0    Stockholm   \n",
       "157              Lula Groom        Almstigen        46      -1.0      Uppsala   \n",
       "162                 missing           Aberga        57   72148.0     Vasteras   \n",
       "173        Brittanie Mcfaul       Bohusgatan        34    3014.0     Halmstad   \n",
       "174           Willis Axford            Nyhem         5      -1.0         Umea   \n",
       "...                     ...              ...       ...       ...          ...   \n",
       "999840              missing     Krokiusgatan        32   35174.0        Vaxjo   \n",
       "999844        Susannah Lino       Larmtorget        11    3914.0       Kalmar   \n",
       "999849         Cordia Bunge          missing         1    7017.0       Orebro   \n",
       "999854       Lauralee Selle            Nyhem        39      -1.0         Umea   \n",
       "999858      Eduardo Venters           Aberga        67    7214.0     Vasteras   \n",
       "999860      Anneliese Laber          missing        94   30147.0     Halmstad   \n",
       "999874        Joleen Bright    Adjunktsgatan         2      -1.0        Malmo   \n",
       "999880    Marguerita Tilley         Dagsberg        61      -1.0   Norrkoping   \n",
       "999885              missing        Akutgatan        59   22175.0         Lund   \n",
       "999887              missing  Allhelgonagatan        22   11125.0    Stockholm   \n",
       "999888              missing      Ekorrstigen        59   97146.0        Lulea   \n",
       "999889     Bianca Velasques     Mineralgatan        16    6315.0   Eskilstuna   \n",
       "999890              missing     Bergsbogatan        86   50136.0        Boras   \n",
       "999906     Savanna Mcmullin     Mineralgatan        90      -1.0   Eskilstuna   \n",
       "999919              missing     Bergsbogatan        42   50136.0        Boras   \n",
       "999926        Nilsa Teneyck           Boberg        72      -1.0    Kalrlstad   \n",
       "999927              missing           Boberg        30   65135.0    Kalrlstad   \n",
       "999932       Slyvia Lashley      Ekorrstigen        43    9714.0        Lulea   \n",
       "999935     Lissette English          missing         6   85176.0    Sundsvall   \n",
       "999939          Verda Faris      Ekorrstigen        85      -1.0        Lulea   \n",
       "999943           Caron Neal           Aberga        48    7214.0     Vasteras   \n",
       "999947        Nilsa Teneyck       Larmtorget        90    3914.0       Kalmar   \n",
       "999951              missing         Dagsberg        63   60124.0   Norrkoping   \n",
       "999955              missing      Betesbacken        25      -1.0    Sundsvall   \n",
       "999960            Ross Bell          missing        25   72148.0     Vasteras   \n",
       "999968       Laronda Wenner          missing        20   75165.0      Uppsala   \n",
       "999976        Joleen Bright        Akutgatan        83     221.0         Lund   \n",
       "999981              missing       Ankargatan        69   55157.0    Jonkoping   \n",
       "999997        Andra Herbert       Bohusgatan        72    3014.0     Halmstad   \n",
       "999998        Perry Didonna     Krokiusgatan        22    3517.0        Vaxjo   \n",
       "\n",
       "       Legitimate  \n",
       "1           False  \n",
       "2           False  \n",
       "10          False  \n",
       "16          False  \n",
       "24          False  \n",
       "27          False  \n",
       "29          False  \n",
       "40          False  \n",
       "43          False  \n",
       "49          False  \n",
       "58          False  \n",
       "70          False  \n",
       "71          False  \n",
       "81          False  \n",
       "93          False  \n",
       "94          False  \n",
       "102         False  \n",
       "105         False  \n",
       "109         False  \n",
       "112         False  \n",
       "114         False  \n",
       "128         False  \n",
       "134         False  \n",
       "143         False  \n",
       "155         False  \n",
       "156         False  \n",
       "157         False  \n",
       "162         False  \n",
       "173         False  \n",
       "174         False  \n",
       "...           ...  \n",
       "999840      False  \n",
       "999844      False  \n",
       "999849      False  \n",
       "999854      False  \n",
       "999858      False  \n",
       "999860      False  \n",
       "999874      False  \n",
       "999880      False  \n",
       "999885      False  \n",
       "999887      False  \n",
       "999888      False  \n",
       "999889      False  \n",
       "999890      False  \n",
       "999906      False  \n",
       "999919      False  \n",
       "999926      False  \n",
       "999927      False  \n",
       "999932      False  \n",
       "999935      False  \n",
       "999939      False  \n",
       "999943      False  \n",
       "999947      False  \n",
       "999951      False  \n",
       "999955      False  \n",
       "999960      False  \n",
       "999968      False  \n",
       "999976      False  \n",
       "999981      False  \n",
       "999997      False  \n",
       "999998      False  \n",
       "\n",
       "[184424 rows x 6 columns]"
      ]
     },
     "execution_count": 7,
     "metadata": {},
     "output_type": "execute_result"
    }
   ],
   "source": [
    "# Change all missing values to 'missing'\n",
    "\n",
    "df['Name']     = df['Name'].fillna('missing')\n",
    "df['Street']   = df['Street'].fillna('missing')\n",
    "df['StreetNr'] = df['StreetNr'].fillna(-1)\n",
    "df['Zip Code'] = df['Zip Code'].fillna(-1)\n",
    "df['City']     = df['City'].fillna('missing')\n",
    "df.loc[df['Legitimate'] == False]"
   ]
  },
  {
   "cell_type": "code",
   "execution_count": 8,
   "metadata": {
    "collapsed": false
   },
   "outputs": [
    {
     "data": {
      "text/plain": [
       "False"
      ]
     },
     "execution_count": 8,
     "metadata": {},
     "output_type": "execute_result"
    }
   ],
   "source": [
    "#Check for null values\n",
    "df.isnull().values.any()"
   ]
  },
  {
   "cell_type": "code",
   "execution_count": 9,
   "metadata": {
    "collapsed": false
   },
   "outputs": [
    {
     "data": {
      "text/plain": [
       "(1000000, 6)"
      ]
     },
     "execution_count": 9,
     "metadata": {},
     "output_type": "execute_result"
    }
   ],
   "source": [
    "# Shows the RowsxColumns\n",
    "df.shape"
   ]
  },
  {
   "cell_type": "code",
   "execution_count": 10,
   "metadata": {
    "collapsed": false
   },
   "outputs": [
    {
     "data": {
      "text/html": [
       "<div>\n",
       "<table border=\"1\" class=\"dataframe\">\n",
       "  <thead>\n",
       "    <tr style=\"text-align: right;\">\n",
       "      <th></th>\n",
       "      <th>Name</th>\n",
       "      <th>Street</th>\n",
       "      <th>StreetNr</th>\n",
       "      <th>Zip Code</th>\n",
       "      <th>City</th>\n",
       "      <th>Legitimate</th>\n",
       "    </tr>\n",
       "  </thead>\n",
       "  <tbody>\n",
       "    <tr>\n",
       "      <th>0</th>\n",
       "      <td>78</td>\n",
       "      <td>21</td>\n",
       "      <td>44</td>\n",
       "      <td>70178.0</td>\n",
       "      <td>14</td>\n",
       "      <td>1</td>\n",
       "    </tr>\n",
       "    <tr>\n",
       "      <th>1</th>\n",
       "      <td>100</td>\n",
       "      <td>7</td>\n",
       "      <td>64</td>\n",
       "      <td>75165.0</td>\n",
       "      <td>18</td>\n",
       "      <td>0</td>\n",
       "    </tr>\n",
       "    <tr>\n",
       "      <th>2</th>\n",
       "      <td>46</td>\n",
       "      <td>24</td>\n",
       "      <td>21</td>\n",
       "      <td>9714.0</td>\n",
       "      <td>10</td>\n",
       "      <td>0</td>\n",
       "    </tr>\n",
       "    <tr>\n",
       "      <th>3</th>\n",
       "      <td>36</td>\n",
       "      <td>16</td>\n",
       "      <td>84</td>\n",
       "      <td>80114.0</td>\n",
       "      <td>2</td>\n",
       "      <td>1</td>\n",
       "    </tr>\n",
       "    <tr>\n",
       "      <th>4</th>\n",
       "      <td>68</td>\n",
       "      <td>16</td>\n",
       "      <td>51</td>\n",
       "      <td>80114.0</td>\n",
       "      <td>2</td>\n",
       "      <td>1</td>\n",
       "    </tr>\n",
       "  </tbody>\n",
       "</table>\n",
       "</div>"
      ],
      "text/plain": [
       "   Name  Street  StreetNr  Zip Code  City  Legitimate\n",
       "0    78      21        44   70178.0    14           1\n",
       "1   100       7        64   75165.0    18           0\n",
       "2    46      24        21    9714.0    10           0\n",
       "3    36      16        84   80114.0     2           1\n",
       "4    68      16        51   80114.0     2           1"
      ]
     },
     "execution_count": 10,
     "metadata": {},
     "output_type": "execute_result"
    }
   ],
   "source": [
    "# This is a simple encoder which replaces Strings with a number\n",
    "\n",
    "# TODO:\n",
    "# Should save the corresponding number to the corresponding string in a file\n",
    "\n",
    "from sklearn.preprocessing import LabelEncoder\n",
    "\n",
    "def dummyEncode(df):\n",
    "        columnsToEncode = list(df.select_dtypes(include=['category','object']))\n",
    "        le = LabelEncoder()\n",
    "        for feature in columnsToEncode:\n",
    "            try:\n",
    "                df[feature] = le.fit_transform(df[feature])\n",
    "            except:\n",
    "                print('Error encoding '+ feature)\n",
    "        return df\n",
    "    \n",
    "dummyEncode(df)\n",
    "\n",
    "\n",
    "# Chane True/False to 1/0\n",
    "correctAdress = {True : 1, False : 0}\n",
    "df['Legitimate'] = df['Legitimate'].map(correctAdress)\n",
    "\n",
    "df.select_dtypes\n",
    "\n",
    "df.head()"
   ]
  },
  {
   "cell_type": "markdown",
   "metadata": {},
   "source": [
    "### Check True/False Ratio"
   ]
  },
  {
   "cell_type": "code",
   "execution_count": 11,
   "metadata": {
    "collapsed": false
   },
   "outputs": [
    {
     "name": "stdout",
     "output_type": "stream",
     "text": [
      "Number of True cases: 815576 (81.56%)\n",
      "Number of False cases: 184424 (18.44%)\n"
     ]
    }
   ],
   "source": [
    "num_true = len(df.loc[df['Legitimate'] == True])\n",
    "num_false = len(df.loc[df['Legitimate'] == False])\n",
    "\n",
    "print(\"Number of True cases: {0} ({1:2.2f}%)\".format(num_true, (num_true / (num_true + num_false)) * 100))\n",
    "print(\"Number of False cases: {0} ({1:2.2f}%)\".format(num_false, (num_false / (num_true + num_false)) * 100))"
   ]
  },
  {
   "cell_type": "markdown",
   "metadata": {},
   "source": [
    "### Split Data"
   ]
  },
  {
   "cell_type": "code",
   "execution_count": 12,
   "metadata": {
    "collapsed": false
   },
   "outputs": [],
   "source": [
    "# Divides the Train data and Test data into a 70/30 split\n",
    "\n",
    "#X_train = pd.get_dummies(df)\n",
    "#X_test = pd.get_dummies(df)\n",
    "\n",
    "feature_col_names = ['Name', 'City', 'Street', 'StreetNr', 'Zip Code']\n",
    "prediction_class_name = ['Legitimate']\n",
    "\n",
    "#ddf = pd.get_dummies(df)\n",
    "\n",
    "X = df[feature_col_names].values     # predictor feature columnd (8 X m)\n",
    "y = df[prediction_class_name].values # predicted calss (1 = true, 0 = false) column (1 X m)\n",
    "split_test_size = 0.70\n",
    "\n",
    "X_train, X_test, y_train, y_test = train_test_split(X, y, test_size = split_test_size, random_state = 42) # 42 is the answer to everything"
   ]
  },
  {
   "cell_type": "code",
   "execution_count": 13,
   "metadata": {
    "collapsed": false
   },
   "outputs": [
    {
     "name": "stdout",
     "output_type": "stream",
     "text": [
      "30.00% in training set\n",
      "70.00% in test set\n"
     ]
    }
   ],
   "source": [
    "#Print to check if the split was to our liking\n",
    "\n",
    "print(\"{0:0.2f}% in training set\".format((len(X_train)/len(df.index)) * 100))\n",
    "print(\"{0:0.2f}% in test set\".format((len(X_test)/len(df.index)) * 100))"
   ]
  },
  {
   "cell_type": "markdown",
   "metadata": {},
   "source": [
    "### Verifying predicted value was split correctly"
   ]
  },
  {
   "cell_type": "code",
   "execution_count": 14,
   "metadata": {
    "collapsed": false
   },
   "outputs": [
    {
     "name": "stdout",
     "output_type": "stream",
     "text": [
      "Original True  : 815576 (81.56%)\n",
      "Original False : 184424 (18.44%)\n",
      "\n",
      "Training True  : 244686 (81.56%)\n",
      "Training False : 55314 (18.44%)\n",
      "\n",
      "Test True      : 570890 (81.56%)\n",
      "Test False     : 129110 (18.44%)\n"
     ]
    }
   ],
   "source": [
    "print(\"Original True  : {0} ({1:0.2f}%)\".format(len(df.loc[df['Legitimate'] == 1]), len(df.loc[df['Legitimate'] == 1]) / len(df.index) * 100))\n",
    "print(\"Original False : {0} ({1:0.2f}%)\".format(len(df.loc[df['Legitimate'] == 0]), len(df.loc[df['Legitimate'] == 0]) / len(df.index) * 100))\n",
    "print(\"\")\n",
    "print(\"Training True  : {0} ({1:0.2f}%)\".format(len(y_train[y_train[:] == 1]), len(y_train[y_train[:] == 1]) / len(y_train) * 100))\n",
    "print(\"Training False : {0} ({1:0.2f}%)\".format(len(y_train[y_train[:] == 0]), len(y_train[y_train[:] == 0]) / len(y_train) * 100))\n",
    "print(\"\")\n",
    "print(\"Test True      : {0} ({1:0.2f}%)\".format(len(y_test[y_test[:] == 1]), len(y_test[y_test[:] == 1]) / len(y_test) * 100))\n",
    "print(\"Test False     : {0} ({1:0.2f}%)\".format(len(y_test[y_test[:] == 0]), len(y_test[y_test[:] == 0]) / len(y_test) * 100))"
   ]
  },
  {
   "cell_type": "code",
   "execution_count": 15,
   "metadata": {
    "collapsed": false,
    "scrolled": false
   },
   "outputs": [
    {
     "data": {
      "image/png": "[encoded data removed]",
      "text/plain": [
       "<matplotlib.figure.Figure at 0x16a30401c18>"
      ]
     },
     "metadata": {},
     "output_type": "display_data"
    }
   ],
   "source": [
    "def plot_corr(df, size=11):\n",
    "    # data frame correlation function\n",
    "    corr = df.corr()\n",
    "    fig, ax = plt.subplots(figsize=(size, size))\n",
    "    \n",
    "    # color code the rectangles by correlation value\n",
    "    ax.matshow(corr)\n",
    "    \n",
    "    # draw x tick marks\n",
    "    plt.xticks(range(len(corr.columns)), corr.columns)\n",
    "    # draw y tick marks\n",
    "    plt.yticks(range(len(corr.columns)), corr.columns)\n",
    "\n",
    "plot_corr(df)"
   ]
  },
  {
   "cell_type": "code",
   "execution_count": 16,
   "metadata": {
    "collapsed": false
   },
   "outputs": [
    {
     "data": {
      "text/html": [
       "<div>\n",
       "<table border=\"1\" class=\"dataframe\">\n",
       "  <thead>\n",
       "    <tr style=\"text-align: right;\">\n",
       "      <th></th>\n",
       "      <th>Name</th>\n",
       "      <th>Street</th>\n",
       "      <th>StreetNr</th>\n",
       "      <th>Zip Code</th>\n",
       "      <th>City</th>\n",
       "      <th>Legitimate</th>\n",
       "    </tr>\n",
       "  </thead>\n",
       "  <tbody>\n",
       "    <tr>\n",
       "      <th>Name</th>\n",
       "      <td>1.000000</td>\n",
       "      <td>0.003008</td>\n",
       "      <td>-0.003207</td>\n",
       "      <td>0.003871</td>\n",
       "      <td>-0.001043</td>\n",
       "      <td>-0.175430</td>\n",
       "    </tr>\n",
       "    <tr>\n",
       "      <th>Street</th>\n",
       "      <td>0.003008</td>\n",
       "      <td>1.000000</td>\n",
       "      <td>-0.004524</td>\n",
       "      <td>0.248140</td>\n",
       "      <td>-0.198197</td>\n",
       "      <td>-0.185839</td>\n",
       "    </tr>\n",
       "    <tr>\n",
       "      <th>StreetNr</th>\n",
       "      <td>-0.003207</td>\n",
       "      <td>-0.004524</td>\n",
       "      <td>1.000000</td>\n",
       "      <td>-0.001585</td>\n",
       "      <td>-0.006309</td>\n",
       "      <td>0.000284</td>\n",
       "    </tr>\n",
       "    <tr>\n",
       "      <th>Zip Code</th>\n",
       "      <td>0.003871</td>\n",
       "      <td>0.248140</td>\n",
       "      <td>-0.001585</td>\n",
       "      <td>1.000000</td>\n",
       "      <td>0.128442</td>\n",
       "      <td>0.384404</td>\n",
       "    </tr>\n",
       "    <tr>\n",
       "      <th>City</th>\n",
       "      <td>-0.001043</td>\n",
       "      <td>-0.198197</td>\n",
       "      <td>-0.006309</td>\n",
       "      <td>0.128442</td>\n",
       "      <td>1.000000</td>\n",
       "      <td>-0.000985</td>\n",
       "    </tr>\n",
       "    <tr>\n",
       "      <th>Legitimate</th>\n",
       "      <td>-0.175430</td>\n",
       "      <td>-0.185839</td>\n",
       "      <td>0.000284</td>\n",
       "      <td>0.384404</td>\n",
       "      <td>-0.000985</td>\n",
       "      <td>1.000000</td>\n",
       "    </tr>\n",
       "  </tbody>\n",
       "</table>\n",
       "</div>"
      ],
      "text/plain": [
       "                Name    Street  StreetNr  Zip Code      City  Legitimate\n",
       "Name        1.000000  0.003008 -0.003207  0.003871 -0.001043   -0.175430\n",
       "Street      0.003008  1.000000 -0.004524  0.248140 -0.198197   -0.185839\n",
       "StreetNr   -0.003207 -0.004524  1.000000 -0.001585 -0.006309    0.000284\n",
       "Zip Code    0.003871  0.248140 -0.001585  1.000000  0.128442    0.384404\n",
       "City       -0.001043 -0.198197 -0.006309  0.128442  1.000000   -0.000985\n",
       "Legitimate -0.175430 -0.185839  0.000284  0.384404 -0.000985    1.000000"
      ]
     },
     "execution_count": 16,
     "metadata": {},
     "output_type": "execute_result"
    }
   ],
   "source": [
    "df.corr()"
   ]
  },
  {
   "cell_type": "markdown",
   "metadata": {},
   "source": [
    "## Random Forest Test"
   ]
  },
  {
   "cell_type": "code",
   "execution_count": 17,
   "metadata": {
    "collapsed": false
   },
   "outputs": [
    {
     "data": {
      "text/plain": [
       "RandomForestClassifier(bootstrap=True, class_weight=None, criterion='gini',\n",
       "            max_depth=None, max_features='auto', max_leaf_nodes=None,\n",
       "            min_impurity_split=1e-07, min_samples_leaf=1,\n",
       "            min_samples_split=2, min_weight_fraction_leaf=0.0,\n",
       "            n_estimators=10, n_jobs=1, oob_score=False, random_state=42,\n",
       "            verbose=0, warm_start=False)"
      ]
     },
     "execution_count": 17,
     "metadata": {},
     "output_type": "execute_result"
    }
   ],
   "source": [
    "from sklearn import metrics\n",
    "\n",
    "rf_model = RandomForestClassifier(random_state = 42) # Create random forest object\n",
    "rf_model.fit(X_train, y_train.ravel())"
   ]
  },
  {
   "cell_type": "code",
   "execution_count": 18,
   "metadata": {
    "collapsed": false
   },
   "outputs": [
    {
     "name": "stdout",
     "output_type": "stream",
     "text": [
      "Accuracy 1.0000\n"
     ]
    }
   ],
   "source": [
    "rf_predict_train = rf_model.predict(X_train)\n",
    "\n",
    "# training metrics\n",
    "print(\"Accuracy {0:.4f}\".format(metrics.accuracy_score(y_train, rf_predict_train)))"
   ]
  },
  {
   "cell_type": "code",
   "execution_count": 19,
   "metadata": {
    "collapsed": false
   },
   "outputs": [
    {
     "name": "stdout",
     "output_type": "stream",
     "text": [
      "Accuracy 1.0000\n"
     ]
    }
   ],
   "source": [
    "rf_predict_test = rf_model.predict(X_test)\n",
    "\n",
    "# training metrics\n",
    "print(\"Accuracy {0:.4f}\".format(metrics.accuracy_score(y_test, rf_predict_test)))"
   ]
  },
  {
   "cell_type": "code",
   "execution_count": 20,
   "metadata": {
    "collapsed": false
   },
   "outputs": [
    {
     "name": "stdout",
     "output_type": "stream",
     "text": [
      "Confusion Matrix\n",
      "[[570890      0]\n",
      " [     0 129110]]\n",
      "\n",
      "Classification Report\n",
      "             precision    recall  f1-score   support\n",
      "\n",
      "          1       1.00      1.00      1.00    570890\n",
      "          0       1.00      1.00      1.00    129110\n",
      "\n",
      "avg / total       1.00      1.00      1.00    700000\n",
      "\n"
     ]
    }
   ],
   "source": [
    "print(\"Confusion Matrix\")\n",
    "# Note the use of labels for set 1 = True to upper left and 0 = False to lower right\n",
    "print(\"{0}\".format(metrics.confusion_matrix(y_test, rf_predict_test, labels = [1, 0])))\n",
    "print(\"\")\n",
    "\n",
    "print(\"Classification Report\")\n",
    "print(metrics.classification_report(y_test, rf_predict_test, labels = [1, 0]))\n",
    "\n",
    "\n",
    "#[[True-Positive, False-Negative]\n",
    "#[False-Positive, True-Negative]]"
   ]
  },
  {
   "cell_type": "markdown",
   "metadata": {},
   "source": [
    "## Naive Bayers"
   ]
  },
  {
   "cell_type": "code",
   "execution_count": 21,
   "metadata": {
    "collapsed": true
   },
   "outputs": [],
   "source": [
    "from sklearn.preprocessing import Imputer\n",
    "\n",
    "fill_0 = Imputer(missing_values = 0, strategy = \"mean\", axis = 0)\n",
    "\n",
    "X_train = fill_0.fit_transform(X_train)\n",
    "X_test  = fill_0.fit_transform(X_test)"
   ]
  },
  {
   "cell_type": "code",
   "execution_count": 22,
   "metadata": {
    "collapsed": false
   },
   "outputs": [
    {
     "data": {
      "text/plain": [
       "GaussianNB(priors=None)"
      ]
     },
     "execution_count": 22,
     "metadata": {},
     "output_type": "execute_result"
    }
   ],
   "source": [
    "# Training Bayers\n",
    "\n",
    "# create Gaussian Naive Bayes model object and train it with the data\n",
    "nb_model = GaussianNB()\n",
    "\n",
    "nb_model.fit(X_train, y_train.ravel())"
   ]
  },
  {
   "cell_type": "code",
   "execution_count": 23,
   "metadata": {
    "collapsed": false,
    "scrolled": true
   },
   "outputs": [
    {
     "name": "stdout",
     "output_type": "stream",
     "text": [
      "Accuracy: 0.8755\n",
      "\n"
     ]
    }
   ],
   "source": [
    "# Performance on Training Data\n",
    "# predict values using the training data\n",
    "nb_predict_train = nb_model.predict(X_train)\n",
    "\n",
    "#Accuracy\n",
    "print(\"Accuracy: {0:.4f}\".format(metrics.accuracy_score(y_train, nb_predict_train)))\n",
    "print()"
   ]
  },
  {
   "cell_type": "code",
   "execution_count": 24,
   "metadata": {
    "collapsed": false
   },
   "outputs": [
    {
     "name": "stdout",
     "output_type": "stream",
     "text": [
      "Accuracy: 0.8753\n",
      "\n"
     ]
    }
   ],
   "source": [
    "# predict values using the training data\n",
    "nb_predict_test = nb_model.predict(X_test)\n",
    "\n",
    "# trainint metrics\n",
    "print(\"Accuracy: {0:.4f}\".format(metrics.accuracy_score(y_test, nb_predict_test)))\n",
    "print()"
   ]
  },
  {
   "cell_type": "code",
   "execution_count": 25,
   "metadata": {
    "collapsed": false
   },
   "outputs": [
    {
     "name": "stdout",
     "output_type": "stream",
     "text": [
      "Confusion Matrix\n",
      "[[570275    615]\n",
      " [ 86696  42414]]\n",
      "\n",
      "Classification Report\n",
      "             precision    recall  f1-score   support\n",
      "\n",
      "          1       0.87      1.00      0.93    570890\n",
      "          0       0.99      0.33      0.49    129110\n",
      "\n",
      "avg / total       0.89      0.88      0.85    700000\n",
      "\n"
     ]
    }
   ],
   "source": [
    "print(\"Confusion Matrix\")\n",
    "# Note the use of labels for set 1 = True to upper left and 0 = False to lower right\n",
    "print(\"{0}\".format(metrics.confusion_matrix(y_test, nb_predict_test, labels = [1, 0])))\n",
    "print(\"\")\n",
    "\n",
    "print(\"Classification Report\")\n",
    "print(metrics.classification_report(y_test, nb_predict_test, labels = [1, 0]))"
   ]
  },
  {
   "cell_type": "markdown",
   "metadata": {},
   "source": [
    "### Logistic Regression"
   ]
  },
  {
   "cell_type": "code",
   "execution_count": 26,
   "metadata": {
    "collapsed": false
   },
   "outputs": [
    {
     "data": {
      "text/plain": [
       "LogisticRegression(C=0.7, class_weight=None, dual=False, fit_intercept=True,\n",
       "          intercept_scaling=1, max_iter=100, multi_class='ovr', n_jobs=1,\n",
       "          penalty='l2', random_state=42, solver='liblinear', tol=0.0001,\n",
       "          verbose=0, warm_start=False)"
      ]
     },
     "execution_count": 26,
     "metadata": {},
     "output_type": "execute_result"
    }
   ],
   "source": [
    "lr_model = LogisticRegression(C = 0.7, random_state = 42)\n",
    "lr_model.fit(X_train, y_train.ravel())"
   ]
  },
  {
   "cell_type": "code",
   "execution_count": 27,
   "metadata": {
    "collapsed": false
   },
   "outputs": [
    {
     "name": "stdout",
     "output_type": "stream",
     "text": [
      "Accuracy: 0.8970\n",
      "\n"
     ]
    }
   ],
   "source": [
    "lr_predict_train = lr_model.predict(X_train)\n",
    "\n",
    "print(\"Accuracy: {0:.4f}\".format(metrics.accuracy_score(y_train, lr_predict_train)))\n",
    "print(\"\")"
   ]
  },
  {
   "cell_type": "code",
   "execution_count": 28,
   "metadata": {
    "collapsed": false
   },
   "outputs": [
    {
     "name": "stdout",
     "output_type": "stream",
     "text": [
      "Accuracy: 0.8975\n",
      "\n"
     ]
    }
   ],
   "source": [
    "lr_predict_test = lr_model.predict(X_test)\n",
    "\n",
    "print(\"Accuracy: {0:.4f}\".format(metrics.accuracy_score(y_test, lr_predict_test)))\n",
    "print(\"\")"
   ]
  },
  {
   "cell_type": "code",
   "execution_count": 29,
   "metadata": {
    "collapsed": false
   },
   "outputs": [
    {
     "name": "stdout",
     "output_type": "stream",
     "text": [
      "Confusion Matrix\n",
      "[[557218  13672]\n",
      " [ 58096  71014]]\n",
      "\n",
      "Classification Report\n",
      "             precision    recall  f1-score   support\n",
      "\n",
      "          1       0.91      0.98      0.94    570890\n",
      "          0       0.84      0.55      0.66    129110\n",
      "\n",
      "avg / total       0.89      0.90      0.89    700000\n",
      "\n"
     ]
    }
   ],
   "source": [
    "print(\"Confusion Matrix\")\n",
    "# Note the use of labels for set 1 = True to upper left and 0 = False to lower right\n",
    "print(\"{0}\".format(metrics.confusion_matrix(y_test, lr_predict_test, labels = [1, 0])))\n",
    "print(\"\")\n",
    "\n",
    "print(\"Classification Report\")\n",
    "print(metrics.classification_report(y_test, lr_predict_test, labels = [1, 0]))"
   ]
  },
  {
   "cell_type": "markdown",
   "metadata": {},
   "source": [
    "### Logistic CV"
   ]
  },
  {
   "cell_type": "code",
   "execution_count": 30,
   "metadata": {
    "collapsed": false
   },
   "outputs": [
    {
     "data": {
      "text/plain": [
       "LogisticRegressionCV(Cs=3, class_weight=None, cv=10, dual=False,\n",
       "           fit_intercept=True, intercept_scaling=1.0, max_iter=100,\n",
       "           multi_class='ovr', n_jobs=-1, penalty='l2', random_state=42,\n",
       "           refit=True, scoring=None, solver='lbfgs', tol=0.0001, verbose=0)"
      ]
     },
     "execution_count": 30,
     "metadata": {},
     "output_type": "execute_result"
    }
   ],
   "source": [
    "lr_cv_model = LogisticRegressionCV(n_jobs = -1, random_state = 42, Cs = 3, cv = 10, refit = True)\n",
    "lr_cv_model.fit(X_train, y_train.ravel())"
   ]
  },
  {
   "cell_type": "code",
   "execution_count": 31,
   "metadata": {
    "collapsed": false
   },
   "outputs": [
    {
     "name": "stdout",
     "output_type": "stream",
     "text": [
      "Accuracy: 0.8972\n",
      "\n"
     ]
    }
   ],
   "source": [
    "lr_cv_predict_train = lr_cv_model.predict(X_train)\n",
    "\n",
    "print(\"Accuracy: {0:.4f}\".format(metrics.accuracy_score(y_train, lr_cv_predict_train)))\n",
    "print(\"\")"
   ]
  },
  {
   "cell_type": "code",
   "execution_count": 32,
   "metadata": {
    "collapsed": false
   },
   "outputs": [
    {
     "name": "stdout",
     "output_type": "stream",
     "text": [
      "Accuracy: 0.8973\n",
      "\n"
     ]
    }
   ],
   "source": [
    "lr_cv_predict_test = lr_cv_model.predict(X_test)\n",
    "\n",
    "print(\"Accuracy: {0:.4f}\".format(metrics.accuracy_score(y_test, lr_cv_predict_test)))\n",
    "print(\"\")"
   ]
  },
  {
   "cell_type": "code",
   "execution_count": 33,
   "metadata": {
    "collapsed": false
   },
   "outputs": [
    {
     "name": "stdout",
     "output_type": "stream",
     "text": [
      "Confusion Matrix\n",
      "[[557839  13051]\n",
      " [ 58858  70252]]\n",
      "\n",
      "Classification Report\n",
      "             precision    recall  f1-score   support\n",
      "\n",
      "          1       0.90      0.98      0.94    570890\n",
      "          0       0.84      0.54      0.66    129110\n",
      "\n",
      "avg / total       0.89      0.90      0.89    700000\n",
      "\n"
     ]
    }
   ],
   "source": [
    "print(\"Confusion Matrix\")\n",
    "print(metrics.confusion_matrix(y_test, lr_cv_predict_test, labels = [1, 0]))\n",
    "print(\"\")\n",
    "\n",
    "print(\"Classification Report\")\n",
    "print(metrics.classification_report(y_test, lr_cv_predict_test, labels = [1, 0]))"
   ]
  }
 ],
 "metadata": {
  "kernelspec": {
   "display_name": "Python 3",
   "language": "python",
   "name": "python3"
  },
  "language_info": {
   "codemirror_mode": {
    "name": "ipython",
    "version": 3
   },
   "file_extension": ".py",
   "mimetype": "text/x-python",
   "name": "python",
   "nbconvert_exporter": "python",
   "pygments_lexer": "ipython3",
   "version": "3.6.0"
  }
 },
 "nbformat": 4,
 "nbformat_minor": 2
}
