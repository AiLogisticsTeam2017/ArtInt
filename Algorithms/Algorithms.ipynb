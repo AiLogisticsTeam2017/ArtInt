{
 "cells": [
  {
   "cell_type": "markdown",
   "metadata": {},
   "source": [
    "# This is where we use the Algorithms"
   ]
  },
  {
   "cell_type": "code",
   "execution_count": 1,
   "metadata": {
    "collapsed": false,
    "scrolled": true
   },
   "outputs": [
    {
     "name": "stderr",
     "output_type": "stream",
     "text": [
      "C:\\Users\\vikander\\AppData\\Local\\Continuum\\Anaconda33\\lib\\site-packages\\sklearn\\cross_validation.py:44: DeprecationWarning: This module was deprecated in version 0.18 in favor of the model_selection module into which all the refactored classes and functions are moved. Also note that the interface of the new CV iterators are different from that of this module. This module will be removed in 0.20.\n",
      "  \"This module will be removed in 0.20.\", DeprecationWarning)\n"
     ]
    }
   ],
   "source": [
    "# TODO: Write a guide on what you need, https://anaconda.org/anaconda/gensim <---- Gensim\n",
    "#       What does the error message mean?\n",
    "\n",
    "import pandas as pd              # pandas is a dataframe library\n",
    "import matplotlib.pyplot as plt  # matplotlib.pyplot plots data\n",
    "import numpy as np               # numpy provides N-dim object support\n",
    "\n",
    "# do ploting inline instead of in a separate window\n",
    "%matplotlib inline\n",
    "\n",
    "### Algorithms ###\n",
    "from sklearn.naive_bayes import GaussianNB\n",
    "from sklearn.linear_model import LogisticRegression\n",
    "from sklearn.linear_model import LogisticRegressionCV\n",
    "from sklearn.ensemble import RandomForestClassifier\n",
    "\n",
    "from sklearn.cross_validation import train_test_split # Used to split data into Training set and Test Set"
   ]
  },
  {
   "cell_type": "markdown",
   "metadata": {},
   "source": [
    "## Loading Files"
   ]
  },
  {
   "cell_type": "code",
   "execution_count": 2,
   "metadata": {
    "collapsed": false
   },
   "outputs": [],
   "source": [
    "# Load the post data\n",
    "df = pd.read_csv(\"../alteredData10k.csv\")\n",
    "#df = pd.read_csv(\"../alteredData100k.csv\")\n",
    "#df = pd.read_csv(\"../alteredData1M.csv\")\n",
    "#df1 = pd.read_csv(\"../data.csv\")"
   ]
  },
  {
   "cell_type": "markdown",
   "metadata": {},
   "source": [
    "## Preprocessing with a Custom Dummy Encoding"
   ]
  },
  {
   "cell_type": "code",
   "execution_count": 3,
   "metadata": {
    "collapsed": false,
    "scrolled": false
   },
   "outputs": [],
   "source": [
    "# http://stackoverflow.com/questions/37292872/how-can-i-one-hot-encode-in-python <--- This is dank stuff\n",
    "\n",
    "#TODO:\n",
    "# Concider changing this to Word Embedding instead (Gensim)\n",
    "# Concider to add new information instead of re-reading everything\n",
    "# Should be saved into three different file?\n",
    "\n",
    "#from sklearn.feature_extraction import DictVectorizer\n",
    "#dictVector = DictVectorizer(sparse = False, sort = False)\n",
    "#qualitative_features = ['Name', 'Street', 'City']\n",
    "#X_qual = dictVector.fit_transform(df[qualitative_features].to_dict('records'))\n",
    "# Print the List\n",
    "#dictVector.vocabulary_"
   ]
  },
  {
   "cell_type": "code",
   "execution_count": 4,
   "metadata": {
    "collapsed": false
   },
   "outputs": [],
   "source": [
    "# Sanity Check\n",
    "#df.ix[[0, 33, 39, 55]]"
   ]
  },
  {
   "cell_type": "code",
   "execution_count": 5,
   "metadata": {
    "collapsed": false
   },
   "outputs": [],
   "source": [
    "# Debug #\n",
    "#df.loc[df['Name'] == 7]\n",
    "#df1.head()"
   ]
  },
  {
   "cell_type": "code",
   "execution_count": 6,
   "metadata": {
    "collapsed": false
   },
   "outputs": [],
   "source": [
    "#df.head()"
   ]
  },
  {
   "cell_type": "code",
   "execution_count": 7,
   "metadata": {
    "collapsed": false,
    "scrolled": false
   },
   "outputs": [
    {
     "data": {
      "text/html": [
       "<div>\n",
       "<table border=\"1\" class=\"dataframe\">\n",
       "  <thead>\n",
       "    <tr style=\"text-align: right;\">\n",
       "      <th></th>\n",
       "      <th>Name</th>\n",
       "      <th>Street</th>\n",
       "      <th>StreetNr</th>\n",
       "      <th>Zip Code</th>\n",
       "      <th>City</th>\n",
       "      <th>Legitimate</th>\n",
       "    </tr>\n",
       "  </thead>\n",
       "  <tbody>\n",
       "    <tr>\n",
       "      <th>19</th>\n",
       "      <td>Verda Faris</td>\n",
       "      <td>Pilgatan</td>\n",
       "      <td>165</td>\n",
       "      <td>6513.0</td>\n",
       "      <td>Kalrlstad</td>\n",
       "      <td>False</td>\n",
       "    </tr>\n",
       "    <tr>\n",
       "      <th>26</th>\n",
       "      <td>Gaynell Pascarelli</td>\n",
       "      <td>Bohusgatan</td>\n",
       "      <td>88</td>\n",
       "      <td>4114.0</td>\n",
       "      <td>Goteborg</td>\n",
       "      <td>False</td>\n",
       "    </tr>\n",
       "    <tr>\n",
       "      <th>32</th>\n",
       "      <td>Gladis Dunlap</td>\n",
       "      <td>Larmtorget</td>\n",
       "      <td>111</td>\n",
       "      <td>-1.0</td>\n",
       "      <td>Stockholm</td>\n",
       "      <td>False</td>\n",
       "    </tr>\n",
       "    <tr>\n",
       "      <th>47</th>\n",
       "      <td>Ross Bell</td>\n",
       "      <td>missing</td>\n",
       "      <td>102</td>\n",
       "      <td>72176.0</td>\n",
       "      <td>Vasteras</td>\n",
       "      <td>False</td>\n",
       "    </tr>\n",
       "    <tr>\n",
       "      <th>55</th>\n",
       "      <td>Jeanmarie Westover</td>\n",
       "      <td>Eriksberg</td>\n",
       "      <td>109</td>\n",
       "      <td>-1.0</td>\n",
       "      <td>Uppsala</td>\n",
       "      <td>False</td>\n",
       "    </tr>\n",
       "    <tr>\n",
       "      <th>57</th>\n",
       "      <td>Maryland Kraushaar</td>\n",
       "      <td>Fotstigen</td>\n",
       "      <td>146</td>\n",
       "      <td>5516.0</td>\n",
       "      <td>Jonkoping</td>\n",
       "      <td>False</td>\n",
       "    </tr>\n",
       "    <tr>\n",
       "      <th>60</th>\n",
       "      <td>Adrien Emerson</td>\n",
       "      <td>Berg</td>\n",
       "      <td>183</td>\n",
       "      <td>-1.0</td>\n",
       "      <td>Sundsvall</td>\n",
       "      <td>False</td>\n",
       "    </tr>\n",
       "    <tr>\n",
       "      <th>68</th>\n",
       "      <td>missing</td>\n",
       "      <td>Eriksberg</td>\n",
       "      <td>4</td>\n",
       "      <td>-1.0</td>\n",
       "      <td>Vasteras</td>\n",
       "      <td>False</td>\n",
       "    </tr>\n",
       "    <tr>\n",
       "      <th>104</th>\n",
       "      <td>Gladis Dunlap</td>\n",
       "      <td>Allhelgonagatan</td>\n",
       "      <td>23</td>\n",
       "      <td>4112.0</td>\n",
       "      <td>Goteborg</td>\n",
       "      <td>False</td>\n",
       "    </tr>\n",
       "    <tr>\n",
       "      <th>107</th>\n",
       "      <td>Cleo Kent</td>\n",
       "      <td>missing</td>\n",
       "      <td>29</td>\n",
       "      <td>11177.0</td>\n",
       "      <td>Stockholm</td>\n",
       "      <td>False</td>\n",
       "    </tr>\n",
       "    <tr>\n",
       "      <th>113</th>\n",
       "      <td>Cordia Bunge</td>\n",
       "      <td>Nyhem</td>\n",
       "      <td>168</td>\n",
       "      <td>7219.0</td>\n",
       "      <td>Vasteras</td>\n",
       "      <td>False</td>\n",
       "    </tr>\n",
       "    <tr>\n",
       "      <th>137</th>\n",
       "      <td>Shayna Lyttle</td>\n",
       "      <td>Ankargatan</td>\n",
       "      <td>195</td>\n",
       "      <td>-1.0</td>\n",
       "      <td>Linkoping</td>\n",
       "      <td>False</td>\n",
       "    </tr>\n",
       "    <tr>\n",
       "      <th>147</th>\n",
       "      <td>missing</td>\n",
       "      <td>Kaptensgatan</td>\n",
       "      <td>140</td>\n",
       "      <td>5516.0</td>\n",
       "      <td>Jonkoping</td>\n",
       "      <td>False</td>\n",
       "    </tr>\n",
       "    <tr>\n",
       "      <th>158</th>\n",
       "      <td>Hank Gess</td>\n",
       "      <td>missing</td>\n",
       "      <td>132</td>\n",
       "      <td>97125.0</td>\n",
       "      <td>Lulea</td>\n",
       "      <td>False</td>\n",
       "    </tr>\n",
       "    <tr>\n",
       "      <th>169</th>\n",
       "      <td>Alexa Grego</td>\n",
       "      <td>missing</td>\n",
       "      <td>116</td>\n",
       "      <td>41156.0</td>\n",
       "      <td>Goteborg</td>\n",
       "      <td>False</td>\n",
       "    </tr>\n",
       "    <tr>\n",
       "      <th>171</th>\n",
       "      <td>Brigid Macleod</td>\n",
       "      <td>Boberg</td>\n",
       "      <td>30</td>\n",
       "      <td>5513.0</td>\n",
       "      <td>Jonkoping</td>\n",
       "      <td>False</td>\n",
       "    </tr>\n",
       "    <tr>\n",
       "      <th>194</th>\n",
       "      <td>Lula Groom</td>\n",
       "      <td>Aberga</td>\n",
       "      <td>97</td>\n",
       "      <td>-1.0</td>\n",
       "      <td>Uppsala</td>\n",
       "      <td>False</td>\n",
       "    </tr>\n",
       "    <tr>\n",
       "      <th>202</th>\n",
       "      <td>Victorina Cataldo</td>\n",
       "      <td>Akutgatan</td>\n",
       "      <td>154</td>\n",
       "      <td>6317.0</td>\n",
       "      <td>Eskilstuna</td>\n",
       "      <td>False</td>\n",
       "    </tr>\n",
       "    <tr>\n",
       "      <th>238</th>\n",
       "      <td>Wilbert Chavous</td>\n",
       "      <td>Amiralsgatan</td>\n",
       "      <td>85</td>\n",
       "      <td>-1.0</td>\n",
       "      <td>Vasteras</td>\n",
       "      <td>False</td>\n",
       "    </tr>\n",
       "    <tr>\n",
       "      <th>249</th>\n",
       "      <td>Shayna Lyttle</td>\n",
       "      <td>missing</td>\n",
       "      <td>103</td>\n",
       "      <td>97187.0</td>\n",
       "      <td>Lulea</td>\n",
       "      <td>False</td>\n",
       "    </tr>\n",
       "    <tr>\n",
       "      <th>288</th>\n",
       "      <td>Pearlene Robison</td>\n",
       "      <td>Berget</td>\n",
       "      <td>161</td>\n",
       "      <td>-1.0</td>\n",
       "      <td>Gavle</td>\n",
       "      <td>False</td>\n",
       "    </tr>\n",
       "    <tr>\n",
       "      <th>303</th>\n",
       "      <td>Alicia Trombly</td>\n",
       "      <td>Albogatan</td>\n",
       "      <td>199</td>\n",
       "      <td>6317.0</td>\n",
       "      <td>Eskilstuna</td>\n",
       "      <td>False</td>\n",
       "    </tr>\n",
       "    <tr>\n",
       "      <th>312</th>\n",
       "      <td>Carolin Wiechmann</td>\n",
       "      <td>missing</td>\n",
       "      <td>67</td>\n",
       "      <td>75177.0</td>\n",
       "      <td>Uppsala</td>\n",
       "      <td>False</td>\n",
       "    </tr>\n",
       "    <tr>\n",
       "      <th>320</th>\n",
       "      <td>Cyndi Mourer</td>\n",
       "      <td>Larmtorget</td>\n",
       "      <td>163</td>\n",
       "      <td>-1.0</td>\n",
       "      <td>Vasteras</td>\n",
       "      <td>False</td>\n",
       "    </tr>\n",
       "    <tr>\n",
       "      <th>328</th>\n",
       "      <td>Lula Groom</td>\n",
       "      <td>missing</td>\n",
       "      <td>111</td>\n",
       "      <td>90125.0</td>\n",
       "      <td>Umea</td>\n",
       "      <td>False</td>\n",
       "    </tr>\n",
       "    <tr>\n",
       "      <th>343</th>\n",
       "      <td>Val Borge</td>\n",
       "      <td>Albrogatan</td>\n",
       "      <td>89</td>\n",
       "      <td>-1.0</td>\n",
       "      <td>Orebro</td>\n",
       "      <td>False</td>\n",
       "    </tr>\n",
       "    <tr>\n",
       "      <th>346</th>\n",
       "      <td>Ellie Graziano</td>\n",
       "      <td>Odensbergsgatan</td>\n",
       "      <td>125</td>\n",
       "      <td>3017.0</td>\n",
       "      <td>Halmstad</td>\n",
       "      <td>False</td>\n",
       "    </tr>\n",
       "    <tr>\n",
       "      <th>367</th>\n",
       "      <td>Linsey Jacoby</td>\n",
       "      <td>missing</td>\n",
       "      <td>183</td>\n",
       "      <td>30198.0</td>\n",
       "      <td>Halmstad</td>\n",
       "      <td>False</td>\n",
       "    </tr>\n",
       "    <tr>\n",
       "      <th>368</th>\n",
       "      <td>Chance Breeze</td>\n",
       "      <td>missing</td>\n",
       "      <td>69</td>\n",
       "      <td>35113.0</td>\n",
       "      <td>Vaxjo</td>\n",
       "      <td>False</td>\n",
       "    </tr>\n",
       "    <tr>\n",
       "      <th>388</th>\n",
       "      <td>Laronda Wenner</td>\n",
       "      <td>Pallasgatan</td>\n",
       "      <td>26</td>\n",
       "      <td>3913.0</td>\n",
       "      <td>Kalmar</td>\n",
       "      <td>False</td>\n",
       "    </tr>\n",
       "    <tr>\n",
       "      <th>...</th>\n",
       "      <td>...</td>\n",
       "      <td>...</td>\n",
       "      <td>...</td>\n",
       "      <td>...</td>\n",
       "      <td>...</td>\n",
       "      <td>...</td>\n",
       "    </tr>\n",
       "    <tr>\n",
       "      <th>9467</th>\n",
       "      <td>Lon Madruga</td>\n",
       "      <td>missing</td>\n",
       "      <td>56</td>\n",
       "      <td>75176.0</td>\n",
       "      <td>Uppsala</td>\n",
       "      <td>False</td>\n",
       "    </tr>\n",
       "    <tr>\n",
       "      <th>9496</th>\n",
       "      <td>Shayna Lyttle</td>\n",
       "      <td>missing</td>\n",
       "      <td>100</td>\n",
       "      <td>75168.0</td>\n",
       "      <td>Uppsala</td>\n",
       "      <td>False</td>\n",
       "    </tr>\n",
       "    <tr>\n",
       "      <th>9539</th>\n",
       "      <td>Chance Breeze</td>\n",
       "      <td>Boberg</td>\n",
       "      <td>162</td>\n",
       "      <td>1113.0</td>\n",
       "      <td>Stockholm</td>\n",
       "      <td>False</td>\n",
       "    </tr>\n",
       "    <tr>\n",
       "      <th>9557</th>\n",
       "      <td>Cristopher Bakken</td>\n",
       "      <td>Kaptensgatan</td>\n",
       "      <td>102</td>\n",
       "      <td>7516.0</td>\n",
       "      <td>Uppsala</td>\n",
       "      <td>False</td>\n",
       "    </tr>\n",
       "    <tr>\n",
       "      <th>9565</th>\n",
       "      <td>Zelma Crandell</td>\n",
       "      <td>Mesta</td>\n",
       "      <td>95</td>\n",
       "      <td>-1.0</td>\n",
       "      <td>Jonkoping</td>\n",
       "      <td>False</td>\n",
       "    </tr>\n",
       "    <tr>\n",
       "      <th>9608</th>\n",
       "      <td>Jefferson Blakeslee</td>\n",
       "      <td>missing</td>\n",
       "      <td>52</td>\n",
       "      <td>30125.0</td>\n",
       "      <td>Halmstad</td>\n",
       "      <td>False</td>\n",
       "    </tr>\n",
       "    <tr>\n",
       "      <th>9617</th>\n",
       "      <td>Tresa Kestler</td>\n",
       "      <td>Pallasgatan</td>\n",
       "      <td>65</td>\n",
       "      <td>-1.0</td>\n",
       "      <td>Uppsala</td>\n",
       "      <td>False</td>\n",
       "    </tr>\n",
       "    <tr>\n",
       "      <th>9620</th>\n",
       "      <td>Maryann Marrone</td>\n",
       "      <td>Parkgatan</td>\n",
       "      <td>181</td>\n",
       "      <td>-1.0</td>\n",
       "      <td>Kalmar</td>\n",
       "      <td>False</td>\n",
       "    </tr>\n",
       "    <tr>\n",
       "      <th>9623</th>\n",
       "      <td>Taneka Streetman</td>\n",
       "      <td>Eriksberg</td>\n",
       "      <td>53</td>\n",
       "      <td>7217.0</td>\n",
       "      <td>Vasteras</td>\n",
       "      <td>False</td>\n",
       "    </tr>\n",
       "    <tr>\n",
       "      <th>9633</th>\n",
       "      <td>Loreta Mobley</td>\n",
       "      <td>Hasselgatan</td>\n",
       "      <td>169</td>\n",
       "      <td>-1.0</td>\n",
       "      <td>Boras</td>\n",
       "      <td>False</td>\n",
       "    </tr>\n",
       "    <tr>\n",
       "      <th>9639</th>\n",
       "      <td>Ross Bell</td>\n",
       "      <td>Albogatan</td>\n",
       "      <td>3</td>\n",
       "      <td>5517.0</td>\n",
       "      <td>Jonkoping</td>\n",
       "      <td>False</td>\n",
       "    </tr>\n",
       "    <tr>\n",
       "      <th>9658</th>\n",
       "      <td>missing</td>\n",
       "      <td>missing</td>\n",
       "      <td>124</td>\n",
       "      <td>58133.0</td>\n",
       "      <td>Linkoping</td>\n",
       "      <td>False</td>\n",
       "    </tr>\n",
       "    <tr>\n",
       "      <th>9673</th>\n",
       "      <td>Adrien Emerson</td>\n",
       "      <td>missing</td>\n",
       "      <td>101</td>\n",
       "      <td>97198.0</td>\n",
       "      <td>Lulea</td>\n",
       "      <td>False</td>\n",
       "    </tr>\n",
       "    <tr>\n",
       "      <th>9676</th>\n",
       "      <td>Slyvia Lashley</td>\n",
       "      <td>Eriksberg</td>\n",
       "      <td>174</td>\n",
       "      <td>-1.0</td>\n",
       "      <td>Linkoping</td>\n",
       "      <td>False</td>\n",
       "    </tr>\n",
       "    <tr>\n",
       "      <th>9698</th>\n",
       "      <td>Errol Kingston</td>\n",
       "      <td>Bergsbogatan</td>\n",
       "      <td>6</td>\n",
       "      <td>7013.0</td>\n",
       "      <td>Orebro</td>\n",
       "      <td>False</td>\n",
       "    </tr>\n",
       "    <tr>\n",
       "      <th>9708</th>\n",
       "      <td>Marinda Corliss</td>\n",
       "      <td>missing</td>\n",
       "      <td>151</td>\n",
       "      <td>58123.0</td>\n",
       "      <td>Linkoping</td>\n",
       "      <td>False</td>\n",
       "    </tr>\n",
       "    <tr>\n",
       "      <th>9722</th>\n",
       "      <td>Florentina Brassard</td>\n",
       "      <td>Nyby</td>\n",
       "      <td>96</td>\n",
       "      <td>1118.0</td>\n",
       "      <td>Stockholm</td>\n",
       "      <td>False</td>\n",
       "    </tr>\n",
       "    <tr>\n",
       "      <th>9724</th>\n",
       "      <td>Lula Groom</td>\n",
       "      <td>Krokiusgatan</td>\n",
       "      <td>13</td>\n",
       "      <td>5517.0</td>\n",
       "      <td>Jonkoping</td>\n",
       "      <td>False</td>\n",
       "    </tr>\n",
       "    <tr>\n",
       "      <th>9753</th>\n",
       "      <td>Maryann Marrone</td>\n",
       "      <td>Berget</td>\n",
       "      <td>116</td>\n",
       "      <td>5012.0</td>\n",
       "      <td>Boras</td>\n",
       "      <td>False</td>\n",
       "    </tr>\n",
       "    <tr>\n",
       "      <th>9823</th>\n",
       "      <td>Andra Herbert</td>\n",
       "      <td>Almstigen</td>\n",
       "      <td>32</td>\n",
       "      <td>3916.0</td>\n",
       "      <td>Kalmar</td>\n",
       "      <td>False</td>\n",
       "    </tr>\n",
       "    <tr>\n",
       "      <th>9829</th>\n",
       "      <td>missing</td>\n",
       "      <td>Nyby</td>\n",
       "      <td>84</td>\n",
       "      <td>-1.0</td>\n",
       "      <td>Orebro</td>\n",
       "      <td>False</td>\n",
       "    </tr>\n",
       "    <tr>\n",
       "      <th>9831</th>\n",
       "      <td>Gaynell Pascarelli</td>\n",
       "      <td>missing</td>\n",
       "      <td>82</td>\n",
       "      <td>55174.0</td>\n",
       "      <td>Jonkoping</td>\n",
       "      <td>False</td>\n",
       "    </tr>\n",
       "    <tr>\n",
       "      <th>9844</th>\n",
       "      <td>Andra Herbert</td>\n",
       "      <td>Adlerberthsgatan</td>\n",
       "      <td>9</td>\n",
       "      <td>-1.0</td>\n",
       "      <td>Stockholm</td>\n",
       "      <td>False</td>\n",
       "    </tr>\n",
       "    <tr>\n",
       "      <th>9867</th>\n",
       "      <td>Rosalba Hassett</td>\n",
       "      <td>missing</td>\n",
       "      <td>63</td>\n",
       "      <td>39148.0</td>\n",
       "      <td>Kalmar</td>\n",
       "      <td>False</td>\n",
       "    </tr>\n",
       "    <tr>\n",
       "      <th>9885</th>\n",
       "      <td>Bernetta Rountree</td>\n",
       "      <td>Fotstigen</td>\n",
       "      <td>185</td>\n",
       "      <td>6516.0</td>\n",
       "      <td>Kalrlstad</td>\n",
       "      <td>False</td>\n",
       "    </tr>\n",
       "    <tr>\n",
       "      <th>9895</th>\n",
       "      <td>Pearlene Robison</td>\n",
       "      <td>Agnesgatan</td>\n",
       "      <td>152</td>\n",
       "      <td>-1.0</td>\n",
       "      <td>Boras</td>\n",
       "      <td>False</td>\n",
       "    </tr>\n",
       "    <tr>\n",
       "      <th>9961</th>\n",
       "      <td>Anneliese Laber</td>\n",
       "      <td>Pallasgatan</td>\n",
       "      <td>133</td>\n",
       "      <td>7013.0</td>\n",
       "      <td>Orebro</td>\n",
       "      <td>False</td>\n",
       "    </tr>\n",
       "    <tr>\n",
       "      <th>9985</th>\n",
       "      <td>Gaynell Pascarelli</td>\n",
       "      <td>Bergsbogatan</td>\n",
       "      <td>195</td>\n",
       "      <td>-1.0</td>\n",
       "      <td>Kalrlstad</td>\n",
       "      <td>False</td>\n",
       "    </tr>\n",
       "    <tr>\n",
       "      <th>9989</th>\n",
       "      <td>Yael Ribera</td>\n",
       "      <td>Eriksberg</td>\n",
       "      <td>39</td>\n",
       "      <td>-1.0</td>\n",
       "      <td>Vasteras</td>\n",
       "      <td>False</td>\n",
       "    </tr>\n",
       "    <tr>\n",
       "      <th>9993</th>\n",
       "      <td>Myong Lofthouse</td>\n",
       "      <td>missing</td>\n",
       "      <td>20</td>\n",
       "      <td>75133.0</td>\n",
       "      <td>Uppsala</td>\n",
       "      <td>False</td>\n",
       "    </tr>\n",
       "  </tbody>\n",
       "</table>\n",
       "<p>725 rows × 6 columns</p>\n",
       "</div>"
      ],
      "text/plain": [
       "                     Name            Street  StreetNr  Zip Code        City  \\\n",
       "19            Verda Faris          Pilgatan       165    6513.0   Kalrlstad   \n",
       "26     Gaynell Pascarelli        Bohusgatan        88    4114.0    Goteborg   \n",
       "32          Gladis Dunlap        Larmtorget       111      -1.0   Stockholm   \n",
       "47              Ross Bell           missing       102   72176.0    Vasteras   \n",
       "55     Jeanmarie Westover         Eriksberg       109      -1.0     Uppsala   \n",
       "57     Maryland Kraushaar         Fotstigen       146    5516.0   Jonkoping   \n",
       "60         Adrien Emerson              Berg       183      -1.0   Sundsvall   \n",
       "68                missing         Eriksberg         4      -1.0    Vasteras   \n",
       "104         Gladis Dunlap   Allhelgonagatan        23    4112.0    Goteborg   \n",
       "107             Cleo Kent           missing        29   11177.0   Stockholm   \n",
       "113          Cordia Bunge             Nyhem       168    7219.0    Vasteras   \n",
       "137         Shayna Lyttle        Ankargatan       195      -1.0   Linkoping   \n",
       "147               missing      Kaptensgatan       140    5516.0   Jonkoping   \n",
       "158             Hank Gess           missing       132   97125.0       Lulea   \n",
       "169           Alexa Grego           missing       116   41156.0    Goteborg   \n",
       "171        Brigid Macleod            Boberg        30    5513.0   Jonkoping   \n",
       "194            Lula Groom            Aberga        97      -1.0     Uppsala   \n",
       "202     Victorina Cataldo         Akutgatan       154    6317.0  Eskilstuna   \n",
       "238       Wilbert Chavous      Amiralsgatan        85      -1.0    Vasteras   \n",
       "249         Shayna Lyttle           missing       103   97187.0       Lulea   \n",
       "288      Pearlene Robison            Berget       161      -1.0       Gavle   \n",
       "303        Alicia Trombly         Albogatan       199    6317.0  Eskilstuna   \n",
       "312     Carolin Wiechmann           missing        67   75177.0     Uppsala   \n",
       "320          Cyndi Mourer        Larmtorget       163      -1.0    Vasteras   \n",
       "328            Lula Groom           missing       111   90125.0        Umea   \n",
       "343             Val Borge        Albrogatan        89      -1.0      Orebro   \n",
       "346        Ellie Graziano   Odensbergsgatan       125    3017.0    Halmstad   \n",
       "367         Linsey Jacoby           missing       183   30198.0    Halmstad   \n",
       "368         Chance Breeze           missing        69   35113.0       Vaxjo   \n",
       "388        Laronda Wenner       Pallasgatan        26    3913.0      Kalmar   \n",
       "...                   ...               ...       ...       ...         ...   \n",
       "9467          Lon Madruga           missing        56   75176.0     Uppsala   \n",
       "9496        Shayna Lyttle           missing       100   75168.0     Uppsala   \n",
       "9539        Chance Breeze            Boberg       162    1113.0   Stockholm   \n",
       "9557    Cristopher Bakken      Kaptensgatan       102    7516.0     Uppsala   \n",
       "9565       Zelma Crandell             Mesta        95      -1.0   Jonkoping   \n",
       "9608  Jefferson Blakeslee           missing        52   30125.0    Halmstad   \n",
       "9617        Tresa Kestler       Pallasgatan        65      -1.0     Uppsala   \n",
       "9620      Maryann Marrone         Parkgatan       181      -1.0      Kalmar   \n",
       "9623     Taneka Streetman         Eriksberg        53    7217.0    Vasteras   \n",
       "9633        Loreta Mobley       Hasselgatan       169      -1.0       Boras   \n",
       "9639            Ross Bell         Albogatan         3    5517.0   Jonkoping   \n",
       "9658              missing           missing       124   58133.0   Linkoping   \n",
       "9673       Adrien Emerson           missing       101   97198.0       Lulea   \n",
       "9676       Slyvia Lashley         Eriksberg       174      -1.0   Linkoping   \n",
       "9698       Errol Kingston      Bergsbogatan         6    7013.0      Orebro   \n",
       "9708      Marinda Corliss           missing       151   58123.0   Linkoping   \n",
       "9722  Florentina Brassard              Nyby        96    1118.0   Stockholm   \n",
       "9724           Lula Groom      Krokiusgatan        13    5517.0   Jonkoping   \n",
       "9753      Maryann Marrone            Berget       116    5012.0       Boras   \n",
       "9823        Andra Herbert         Almstigen        32    3916.0      Kalmar   \n",
       "9829              missing              Nyby        84      -1.0      Orebro   \n",
       "9831   Gaynell Pascarelli           missing        82   55174.0   Jonkoping   \n",
       "9844        Andra Herbert  Adlerberthsgatan         9      -1.0   Stockholm   \n",
       "9867      Rosalba Hassett           missing        63   39148.0      Kalmar   \n",
       "9885    Bernetta Rountree         Fotstigen       185    6516.0   Kalrlstad   \n",
       "9895     Pearlene Robison        Agnesgatan       152      -1.0       Boras   \n",
       "9961      Anneliese Laber       Pallasgatan       133    7013.0      Orebro   \n",
       "9985   Gaynell Pascarelli      Bergsbogatan       195      -1.0   Kalrlstad   \n",
       "9989          Yael Ribera         Eriksberg        39      -1.0    Vasteras   \n",
       "9993      Myong Lofthouse           missing        20   75133.0     Uppsala   \n",
       "\n",
       "     Legitimate  \n",
       "19        False  \n",
       "26        False  \n",
       "32        False  \n",
       "47        False  \n",
       "55        False  \n",
       "57        False  \n",
       "60        False  \n",
       "68        False  \n",
       "104       False  \n",
       "107       False  \n",
       "113       False  \n",
       "137       False  \n",
       "147       False  \n",
       "158       False  \n",
       "169       False  \n",
       "171       False  \n",
       "194       False  \n",
       "202       False  \n",
       "238       False  \n",
       "249       False  \n",
       "288       False  \n",
       "303       False  \n",
       "312       False  \n",
       "320       False  \n",
       "328       False  \n",
       "343       False  \n",
       "346       False  \n",
       "367       False  \n",
       "368       False  \n",
       "388       False  \n",
       "...         ...  \n",
       "9467      False  \n",
       "9496      False  \n",
       "9539      False  \n",
       "9557      False  \n",
       "9565      False  \n",
       "9608      False  \n",
       "9617      False  \n",
       "9620      False  \n",
       "9623      False  \n",
       "9633      False  \n",
       "9639      False  \n",
       "9658      False  \n",
       "9673      False  \n",
       "9676      False  \n",
       "9698      False  \n",
       "9708      False  \n",
       "9722      False  \n",
       "9724      False  \n",
       "9753      False  \n",
       "9823      False  \n",
       "9829      False  \n",
       "9831      False  \n",
       "9844      False  \n",
       "9867      False  \n",
       "9885      False  \n",
       "9895      False  \n",
       "9961      False  \n",
       "9985      False  \n",
       "9989      False  \n",
       "9993      False  \n",
       "\n",
       "[725 rows x 6 columns]"
      ]
     },
     "execution_count": 7,
     "metadata": {},
     "output_type": "execute_result"
    }
   ],
   "source": [
    "# Change all missing values to 'missing'\n",
    "\n",
    "df['Name']     = df['Name'].fillna('missing')\n",
    "df['Street']   = df['Street'].fillna('missing')\n",
    "df['StreetNr'] = df['StreetNr'].fillna(-1)\n",
    "df['Zip Code'] = df['Zip Code'].fillna(-1)\n",
    "df['City']     = df['City'].fillna('missing')\n",
    "df.loc[df['Legitimate'] == False]"
   ]
  },
  {
   "cell_type": "code",
   "execution_count": 8,
   "metadata": {
    "collapsed": false
   },
   "outputs": [
    {
     "data": {
      "text/plain": [
       "False"
      ]
     },
     "execution_count": 8,
     "metadata": {},
     "output_type": "execute_result"
    }
   ],
   "source": [
    "#Check for null values\n",
    "df.isnull().values.any()"
   ]
  },
  {
   "cell_type": "code",
   "execution_count": 9,
   "metadata": {
    "collapsed": false
   },
   "outputs": [
    {
     "data": {
      "text/plain": [
       "(10000, 6)"
      ]
     },
     "execution_count": 9,
     "metadata": {},
     "output_type": "execute_result"
    }
   ],
   "source": [
    "# Shows the RowsxColumns\n",
    "df.shape"
   ]
  },
  {
   "cell_type": "code",
   "execution_count": 10,
   "metadata": {
    "collapsed": false
   },
   "outputs": [
    {
     "data": {
      "text/html": [
       "<div>\n",
       "<table border=\"1\" class=\"dataframe\">\n",
       "  <thead>\n",
       "    <tr style=\"text-align: right;\">\n",
       "      <th></th>\n",
       "      <th>Name</th>\n",
       "      <th>Street</th>\n",
       "      <th>StreetNr</th>\n",
       "      <th>Zip Code</th>\n",
       "      <th>City</th>\n",
       "      <th>Legitimate</th>\n",
       "    </tr>\n",
       "  </thead>\n",
       "  <tbody>\n",
       "    <tr>\n",
       "      <th>0</th>\n",
       "      <td>46</td>\n",
       "      <td>39</td>\n",
       "      <td>2</td>\n",
       "      <td>90198.0</td>\n",
       "      <td>17</td>\n",
       "      <td>1</td>\n",
       "    </tr>\n",
       "    <tr>\n",
       "      <th>1</th>\n",
       "      <td>43</td>\n",
       "      <td>10</td>\n",
       "      <td>62</td>\n",
       "      <td>72125.0</td>\n",
       "      <td>19</td>\n",
       "      <td>1</td>\n",
       "    </tr>\n",
       "    <tr>\n",
       "      <th>2</th>\n",
       "      <td>4</td>\n",
       "      <td>39</td>\n",
       "      <td>165</td>\n",
       "      <td>58198.0</td>\n",
       "      <td>9</td>\n",
       "      <td>1</td>\n",
       "    </tr>\n",
       "    <tr>\n",
       "      <th>3</th>\n",
       "      <td>46</td>\n",
       "      <td>42</td>\n",
       "      <td>65</td>\n",
       "      <td>80137.0</td>\n",
       "      <td>2</td>\n",
       "      <td>1</td>\n",
       "    </tr>\n",
       "    <tr>\n",
       "      <th>4</th>\n",
       "      <td>100</td>\n",
       "      <td>38</td>\n",
       "      <td>195</td>\n",
       "      <td>11187.0</td>\n",
       "      <td>15</td>\n",
       "      <td>1</td>\n",
       "    </tr>\n",
       "  </tbody>\n",
       "</table>\n",
       "</div>"
      ],
      "text/plain": [
       "   Name  Street  StreetNr  Zip Code  City  Legitimate\n",
       "0    46      39         2   90198.0    17           1\n",
       "1    43      10        62   72125.0    19           1\n",
       "2     4      39       165   58198.0     9           1\n",
       "3    46      42        65   80137.0     2           1\n",
       "4   100      38       195   11187.0    15           1"
      ]
     },
     "execution_count": 10,
     "metadata": {},
     "output_type": "execute_result"
    }
   ],
   "source": [
    "# This is a simple encoder which replaces Strings with a number\n",
    "\n",
    "# TODO:\n",
    "# Should save the corresponding number to the corresponding string in a file\n",
    "\n",
    "# Thanks to Wboy, for the Dummy Encoding function, http://stackoverflow.com/questions/37292872/how-can-i-one-hot-encode-in-python\n",
    "\n",
    "from sklearn.preprocessing import LabelEncoder\n",
    "\n",
    "def dummyEncode(df):\n",
    "        columnsToEncode = list(df.select_dtypes(include=['category','object']))\n",
    "        le = LabelEncoder()\n",
    "        for feature in columnsToEncode:\n",
    "            try:\n",
    "                df[feature] = le.fit_transform(df[feature])\n",
    "            except:\n",
    "                print('Error encoding '+ feature)\n",
    "        return df\n",
    "    \n",
    "dummyEncode(df)\n",
    "\n",
    "\n",
    "# Chane True/False to 1/0\n",
    "correctAdress = {True : 1, False : 0}\n",
    "df['Legitimate'] = df['Legitimate'].map(correctAdress)\n",
    "\n",
    "df.select_dtypes\n",
    "\n",
    "df.head()"
   ]
  },
  {
   "cell_type": "markdown",
   "metadata": {},
   "source": [
    "### Check True/False Ratio"
   ]
  },
  {
   "cell_type": "code",
   "execution_count": 11,
   "metadata": {
    "collapsed": false
   },
   "outputs": [
    {
     "name": "stdout",
     "output_type": "stream",
     "text": [
      "Number of True cases: 9275 (92.75%)\n",
      "Number of False cases: 725 (7.25%)\n"
     ]
    }
   ],
   "source": [
    "num_true = len(df.loc[df['Legitimate'] == True])\n",
    "num_false = len(df.loc[df['Legitimate'] == False])\n",
    "\n",
    "print(\"Number of True cases: {0} ({1:2.2f}%)\".format(num_true, (num_true / (num_true + num_false)) * 100))\n",
    "print(\"Number of False cases: {0} ({1:2.2f}%)\".format(num_false, (num_false / (num_true + num_false)) * 100))"
   ]
  },
  {
   "cell_type": "markdown",
   "metadata": {},
   "source": [
    "### Split Data"
   ]
  },
  {
   "cell_type": "code",
   "execution_count": 12,
   "metadata": {
    "collapsed": false
   },
   "outputs": [],
   "source": [
    "# Divides the Train data and Test data into a 70/30 split\n",
    "\n",
    "#X_train = pd.get_dummies(df)\n",
    "#X_test = pd.get_dummies(df)\n",
    "\n",
    "feature_col_names = ['Name', 'City', 'Street', 'StreetNr', 'Zip Code']\n",
    "prediction_class_name = ['Legitimate']\n",
    "\n",
    "#ddf = pd.get_dummies(df)\n",
    "\n",
    "X = df[feature_col_names].values     # predictor feature columnd (8 X m)\n",
    "y = df[prediction_class_name].values # predicted calss (1 = true, 0 = false) column (1 X m)\n",
    "split_test_size = 0.90\n",
    "\n",
    "X_train, X_test, y_train, y_test = train_test_split(X, y, test_size = split_test_size, random_state = 42) # 42 is the answer to everything"
   ]
  },
  {
   "cell_type": "code",
   "execution_count": 13,
   "metadata": {
    "collapsed": false
   },
   "outputs": [
    {
     "name": "stdout",
     "output_type": "stream",
     "text": [
      "10.00% in training set\n",
      "90.00% in test set\n"
     ]
    }
   ],
   "source": [
    "#Print to check if the split was to our liking\n",
    "\n",
    "print(\"{0:0.2f}% in training set\".format((len(X_train) / len(df.index)) * 100))\n",
    "print(\"{0:0.2f}% in test set\".format((len(X_test) / len(df.index)) * 100))"
   ]
  },
  {
   "cell_type": "markdown",
   "metadata": {},
   "source": [
    "### Verifying predicted value was split correctly"
   ]
  },
  {
   "cell_type": "code",
   "execution_count": 14,
   "metadata": {
    "collapsed": false
   },
   "outputs": [
    {
     "name": "stdout",
     "output_type": "stream",
     "text": [
      "Original True  : 9275 (92.75%)\n",
      "Original False : 725 (7.25%)\n",
      "\n",
      "Training True  : 924 (92.40%)\n",
      "Training False : 76 (7.60%)\n",
      "\n",
      "Test True      : 8351 (92.79%)\n",
      "Test False     : 649 (7.21%)\n"
     ]
    }
   ],
   "source": [
    "print(\"Original True  : {0} ({1:0.2f}%)\".format(len(df.loc[df['Legitimate'] == 1]), len(df.loc[df['Legitimate'] == 1]) / len(df.index) * 100))\n",
    "print(\"Original False : {0} ({1:0.2f}%)\".format(len(df.loc[df['Legitimate'] == 0]), len(df.loc[df['Legitimate'] == 0]) / len(df.index) * 100))\n",
    "print(\"\")\n",
    "print(\"Training True  : {0} ({1:0.2f}%)\".format(len(y_train[y_train[:] == 1]), len(y_train[y_train[:] == 1]) / len(y_train) * 100))\n",
    "print(\"Training False : {0} ({1:0.2f}%)\".format(len(y_train[y_train[:] == 0]), len(y_train[y_train[:] == 0]) / len(y_train) * 100))\n",
    "print(\"\")\n",
    "print(\"Test True      : {0} ({1:0.2f}%)\".format(len(y_test[y_test[:] == 1]), len(y_test[y_test[:] == 1]) / len(y_test) * 100))\n",
    "print(\"Test False     : {0} ({1:0.2f}%)\".format(len(y_test[y_test[:] == 0]), len(y_test[y_test[:] == 0]) / len(y_test) * 100))"
   ]
  },
  {
   "cell_type": "code",
   "execution_count": 15,
   "metadata": {
    "collapsed": false,
    "scrolled": false
   },
   "outputs": [
    {
     "data": {
      "image/png": "[encoded data removed]",
      "text/plain": [
       "<matplotlib.figure.Figure at 0x1ac3cad6940>"
      ]
     },
     "metadata": {},
     "output_type": "display_data"
    }
   ],
   "source": [
    "def plot_corr(df, size=11):\n",
    "    # data frame correlation function\n",
    "    corr = df.corr()\n",
    "    fig, ax = plt.subplots(figsize=(size, size))\n",
    "    \n",
    "    # color code the rectangles by correlation value\n",
    "    ax.matshow(corr)\n",
    "    \n",
    "    # draw x tick marks\n",
    "    plt.xticks(range(len(corr.columns)), corr.columns)\n",
    "    # draw y tick marks\n",
    "    plt.yticks(range(len(corr.columns)), corr.columns)\n",
    "\n",
    "plot_corr(df)"
   ]
  },
  {
   "cell_type": "code",
   "execution_count": 16,
   "metadata": {
    "collapsed": false
   },
   "outputs": [
    {
     "data": {
      "text/html": [
       "<div>\n",
       "<table border=\"1\" class=\"dataframe\">\n",
       "  <thead>\n",
       "    <tr style=\"text-align: right;\">\n",
       "      <th></th>\n",
       "      <th>Name</th>\n",
       "      <th>Street</th>\n",
       "      <th>StreetNr</th>\n",
       "      <th>Zip Code</th>\n",
       "      <th>City</th>\n",
       "      <th>Legitimate</th>\n",
       "    </tr>\n",
       "  </thead>\n",
       "  <tbody>\n",
       "    <tr>\n",
       "      <th>Name</th>\n",
       "      <td>1.000000</td>\n",
       "      <td>-0.001675</td>\n",
       "      <td>-0.011159</td>\n",
       "      <td>-0.002963</td>\n",
       "      <td>-0.015566</td>\n",
       "      <td>0.000075</td>\n",
       "    </tr>\n",
       "    <tr>\n",
       "      <th>Street</th>\n",
       "      <td>-0.001675</td>\n",
       "      <td>1.000000</td>\n",
       "      <td>-0.000605</td>\n",
       "      <td>0.007582</td>\n",
       "      <td>0.006783</td>\n",
       "      <td>-0.148120</td>\n",
       "    </tr>\n",
       "    <tr>\n",
       "      <th>StreetNr</th>\n",
       "      <td>-0.011159</td>\n",
       "      <td>-0.000605</td>\n",
       "      <td>1.000000</td>\n",
       "      <td>-0.003954</td>\n",
       "      <td>-0.007574</td>\n",
       "      <td>0.004780</td>\n",
       "    </tr>\n",
       "    <tr>\n",
       "      <th>Zip Code</th>\n",
       "      <td>-0.002963</td>\n",
       "      <td>0.007582</td>\n",
       "      <td>-0.003954</td>\n",
       "      <td>1.000000</td>\n",
       "      <td>0.149471</td>\n",
       "      <td>0.346892</td>\n",
       "    </tr>\n",
       "    <tr>\n",
       "      <th>City</th>\n",
       "      <td>-0.015566</td>\n",
       "      <td>0.006783</td>\n",
       "      <td>-0.007574</td>\n",
       "      <td>0.149471</td>\n",
       "      <td>1.000000</td>\n",
       "      <td>0.004948</td>\n",
       "    </tr>\n",
       "    <tr>\n",
       "      <th>Legitimate</th>\n",
       "      <td>0.000075</td>\n",
       "      <td>-0.148120</td>\n",
       "      <td>0.004780</td>\n",
       "      <td>0.346892</td>\n",
       "      <td>0.004948</td>\n",
       "      <td>1.000000</td>\n",
       "    </tr>\n",
       "  </tbody>\n",
       "</table>\n",
       "</div>"
      ],
      "text/plain": [
       "                Name    Street  StreetNr  Zip Code      City  Legitimate\n",
       "Name        1.000000 -0.001675 -0.011159 -0.002963 -0.015566    0.000075\n",
       "Street     -0.001675  1.000000 -0.000605  0.007582  0.006783   -0.148120\n",
       "StreetNr   -0.011159 -0.000605  1.000000 -0.003954 -0.007574    0.004780\n",
       "Zip Code   -0.002963  0.007582 -0.003954  1.000000  0.149471    0.346892\n",
       "City       -0.015566  0.006783 -0.007574  0.149471  1.000000    0.004948\n",
       "Legitimate  0.000075 -0.148120  0.004780  0.346892  0.004948    1.000000"
      ]
     },
     "execution_count": 16,
     "metadata": {},
     "output_type": "execute_result"
    }
   ],
   "source": [
    "df.corr()"
   ]
  },
  {
   "cell_type": "markdown",
   "metadata": {},
   "source": [
    "## Random Forest Test"
   ]
  },
  {
   "cell_type": "code",
   "execution_count": 17,
   "metadata": {
    "collapsed": false
   },
   "outputs": [
    {
     "data": {
      "text/plain": [
       "RandomForestClassifier(bootstrap=True, class_weight=None, criterion='gini',\n",
       "            max_depth=None, max_features='auto', max_leaf_nodes=None,\n",
       "            min_impurity_split=1e-07, min_samples_leaf=1,\n",
       "            min_samples_split=2, min_weight_fraction_leaf=0.0,\n",
       "            n_estimators=10, n_jobs=1, oob_score=False, random_state=42,\n",
       "            verbose=0, warm_start=False)"
      ]
     },
     "execution_count": 17,
     "metadata": {},
     "output_type": "execute_result"
    }
   ],
   "source": [
    "from sklearn import metrics\n",
    "\n",
    "rf_model = RandomForestClassifier(random_state = 42) # Create random forest object\n",
    "rf_model.fit(X_train, y_train.ravel())"
   ]
  },
  {
   "cell_type": "code",
   "execution_count": 18,
   "metadata": {
    "collapsed": false
   },
   "outputs": [
    {
     "name": "stdout",
     "output_type": "stream",
     "text": [
      "Accuracy 1.0000\n"
     ]
    }
   ],
   "source": [
    "rf_predict_train = rf_model.predict(X_train)\n",
    "\n",
    "# training metrics\n",
    "print(\"Accuracy {0:.4f}\".format(metrics.accuracy_score(y_train, rf_predict_train)))"
   ]
  },
  {
   "cell_type": "code",
   "execution_count": 19,
   "metadata": {
    "collapsed": false
   },
   "outputs": [
    {
     "name": "stdout",
     "output_type": "stream",
     "text": [
      "Accuracy 0.9993\n"
     ]
    }
   ],
   "source": [
    "rf_predict_test = rf_model.predict(X_test)\n",
    "\n",
    "# training metrics\n",
    "print(\"Accuracy {0:.4f}\".format(metrics.accuracy_score(y_test, rf_predict_test)))"
   ]
  },
  {
   "cell_type": "code",
   "execution_count": 20,
   "metadata": {
    "collapsed": false
   },
   "outputs": [
    {
     "name": "stdout",
     "output_type": "stream",
     "text": [
      "Confusion Matrix\n",
      "[[8351    0]\n",
      " [   6  643]]\n",
      "\n",
      "Classification Report\n",
      "             precision    recall  f1-score   support\n",
      "\n",
      "          1       1.00      1.00      1.00      8351\n",
      "          0       1.00      0.99      1.00       649\n",
      "\n",
      "avg / total       1.00      1.00      1.00      9000\n",
      "\n"
     ]
    }
   ],
   "source": [
    "print(\"Confusion Matrix\")\n",
    "# Note the use of labels for set 1 = True to upper left and 0 = False to lower right\n",
    "print(\"{0}\".format(metrics.confusion_matrix(y_test, rf_predict_test, labels = [1, 0])))\n",
    "print(\"\")\n",
    "\n",
    "print(\"Classification Report\")\n",
    "print(metrics.classification_report(y_test, rf_predict_test, labels = [1, 0]))\n",
    "\n",
    "\n",
    "#[[True-Positive, False-Negative]\n",
    "#[False-Positive, True-Negative]]"
   ]
  },
  {
   "cell_type": "markdown",
   "metadata": {},
   "source": [
    "## Naive Bayers"
   ]
  },
  {
   "cell_type": "code",
   "execution_count": 21,
   "metadata": {
    "collapsed": true
   },
   "outputs": [],
   "source": [
    "from sklearn.preprocessing import Imputer\n",
    "\n",
    "fill_0 = Imputer(missing_values = 0, strategy = \"mean\", axis = 0)\n",
    "\n",
    "X_train = fill_0.fit_transform(X_train)\n",
    "X_test  = fill_0.fit_transform(X_test)"
   ]
  },
  {
   "cell_type": "code",
   "execution_count": 22,
   "metadata": {
    "collapsed": false
   },
   "outputs": [
    {
     "data": {
      "text/plain": [
       "GaussianNB(priors=None)"
      ]
     },
     "execution_count": 22,
     "metadata": {},
     "output_type": "execute_result"
    }
   ],
   "source": [
    "# Training Bayers\n",
    "\n",
    "# create Gaussian Naive Bayes model object and train it with the data\n",
    "nb_model = GaussianNB()\n",
    "\n",
    "nb_model.fit(X_train, y_train.ravel())"
   ]
  },
  {
   "cell_type": "code",
   "execution_count": 23,
   "metadata": {
    "collapsed": false,
    "scrolled": true
   },
   "outputs": [
    {
     "name": "stdout",
     "output_type": "stream",
     "text": [
      "Accuracy: 0.9270\n",
      "\n"
     ]
    }
   ],
   "source": [
    "# Performance on Training Data\n",
    "# predict values using the training data\n",
    "nb_predict_train = nb_model.predict(X_train)\n",
    "\n",
    "#Accuracy\n",
    "print(\"Accuracy: {0:.4f}\".format(metrics.accuracy_score(y_train, nb_predict_train)))\n",
    "print()"
   ]
  },
  {
   "cell_type": "code",
   "execution_count": 24,
   "metadata": {
    "collapsed": false
   },
   "outputs": [
    {
     "name": "stdout",
     "output_type": "stream",
     "text": [
      "Accuracy: 0.9317\n",
      "\n"
     ]
    }
   ],
   "source": [
    "# predict values using the training data\n",
    "nb_predict_test = nb_model.predict(X_test)\n",
    "\n",
    "# trainint metrics\n",
    "print(\"Accuracy: {0:.4f}\".format(metrics.accuracy_score(y_test, nb_predict_test)))\n",
    "print()"
   ]
  },
  {
   "cell_type": "code",
   "execution_count": 25,
   "metadata": {
    "collapsed": false
   },
   "outputs": [
    {
     "name": "stdout",
     "output_type": "stream",
     "text": [
      "Confusion Matrix\n",
      "[[8351    0]\n",
      " [ 615   34]]\n",
      "\n",
      "Classification Report\n",
      "             precision    recall  f1-score   support\n",
      "\n",
      "          1       0.93      1.00      0.96      8351\n",
      "          0       1.00      0.05      0.10       649\n",
      "\n",
      "avg / total       0.94      0.93      0.90      9000\n",
      "\n"
     ]
    }
   ],
   "source": [
    "print(\"Confusion Matrix\")\n",
    "# Note the use of labels for set 1 = True to upper left and 0 = False to lower right\n",
    "print(\"{0}\".format(metrics.confusion_matrix(y_test, nb_predict_test, labels = [1, 0])))\n",
    "print(\"\")\n",
    "\n",
    "print(\"Classification Report\")\n",
    "print(metrics.classification_report(y_test, nb_predict_test, labels = [1, 0]))"
   ]
  },
  {
   "cell_type": "markdown",
   "metadata": {},
   "source": [
    "### Logistic Regression"
   ]
  },
  {
   "cell_type": "code",
   "execution_count": 26,
   "metadata": {
    "collapsed": false
   },
   "outputs": [
    {
     "data": {
      "text/plain": [
       "LogisticRegression(C=0.7, class_weight=None, dual=False, fit_intercept=True,\n",
       "          intercept_scaling=1, max_iter=100, multi_class='ovr', n_jobs=1,\n",
       "          penalty='l2', random_state=42, solver='liblinear', tol=0.0001,\n",
       "          verbose=0, warm_start=False)"
      ]
     },
     "execution_count": 26,
     "metadata": {},
     "output_type": "execute_result"
    }
   ],
   "source": [
    "lr_model = LogisticRegression(C = 0.7, random_state = 42)\n",
    "lr_model.fit(X_train, y_train.ravel())"
   ]
  },
  {
   "cell_type": "code",
   "execution_count": 27,
   "metadata": {
    "collapsed": false
   },
   "outputs": [
    {
     "name": "stdout",
     "output_type": "stream",
     "text": [
      "Accuracy: 0.9340\n",
      "\n"
     ]
    }
   ],
   "source": [
    "lr_predict_train = lr_model.predict(X_train)\n",
    "\n",
    "print(\"Accuracy: {0:.4f}\".format(metrics.accuracy_score(y_train, lr_predict_train)))\n",
    "print(\"\")"
   ]
  },
  {
   "cell_type": "code",
   "execution_count": 28,
   "metadata": {
    "collapsed": false
   },
   "outputs": [
    {
     "name": "stdout",
     "output_type": "stream",
     "text": [
      "Accuracy: 0.9432\n",
      "\n"
     ]
    }
   ],
   "source": [
    "lr_predict_test = lr_model.predict(X_test)\n",
    "\n",
    "print(\"Accuracy: {0:.4f}\".format(metrics.accuracy_score(y_test, lr_predict_test)))\n",
    "print(\"\")"
   ]
  },
  {
   "cell_type": "code",
   "execution_count": 29,
   "metadata": {
    "collapsed": false
   },
   "outputs": [
    {
     "name": "stdout",
     "output_type": "stream",
     "text": [
      "Confusion Matrix\n",
      "[[8349    2]\n",
      " [ 509  140]]\n",
      "\n",
      "Classification Report\n",
      "             precision    recall  f1-score   support\n",
      "\n",
      "          1       0.94      1.00      0.97      8351\n",
      "          0       0.99      0.22      0.35       649\n",
      "\n",
      "avg / total       0.95      0.94      0.93      9000\n",
      "\n"
     ]
    }
   ],
   "source": [
    "print(\"Confusion Matrix\")\n",
    "# Note the use of labels for set 1 = True to upper left and 0 = False to lower right\n",
    "print(\"{0}\".format(metrics.confusion_matrix(y_test, lr_predict_test, labels = [1, 0])))\n",
    "print(\"\")\n",
    "\n",
    "print(\"Classification Report\")\n",
    "print(metrics.classification_report(y_test, lr_predict_test, labels = [1, 0]))"
   ]
  },
  {
   "cell_type": "markdown",
   "metadata": {},
   "source": [
    "### Logistic CV"
   ]
  },
  {
   "cell_type": "code",
   "execution_count": 30,
   "metadata": {
    "collapsed": false
   },
   "outputs": [
    {
     "data": {
      "text/plain": [
       "LogisticRegressionCV(Cs=3, class_weight=None, cv=10, dual=False,\n",
       "           fit_intercept=True, intercept_scaling=1.0, max_iter=100,\n",
       "           multi_class='ovr', n_jobs=-1, penalty='l2', random_state=42,\n",
       "           refit=True, scoring=None, solver='lbfgs', tol=0.0001, verbose=0)"
      ]
     },
     "execution_count": 30,
     "metadata": {},
     "output_type": "execute_result"
    }
   ],
   "source": [
    "lr_cv_model = LogisticRegressionCV(n_jobs = -1, random_state = 42, Cs = 3, cv = 10, refit = True)\n",
    "lr_cv_model.fit(X_train, y_train.ravel())"
   ]
  },
  {
   "cell_type": "code",
   "execution_count": 31,
   "metadata": {
    "collapsed": false
   },
   "outputs": [
    {
     "name": "stdout",
     "output_type": "stream",
     "text": [
      "Accuracy: 0.9360\n",
      "\n"
     ]
    }
   ],
   "source": [
    "lr_cv_predict_train = lr_cv_model.predict(X_train)\n",
    "\n",
    "print(\"Accuracy: {0:.4f}\".format(metrics.accuracy_score(y_train, lr_cv_predict_train)))\n",
    "print(\"\")"
   ]
  },
  {
   "cell_type": "code",
   "execution_count": 32,
   "metadata": {
    "collapsed": false
   },
   "outputs": [
    {
     "name": "stdout",
     "output_type": "stream",
     "text": [
      "Accuracy: 0.9426\n",
      "\n"
     ]
    }
   ],
   "source": [
    "lr_cv_predict_test = lr_cv_model.predict(X_test)\n",
    "\n",
    "print(\"Accuracy: {0:.4f}\".format(metrics.accuracy_score(y_test, lr_cv_predict_test)))\n",
    "print(\"\")"
   ]
  },
  {
   "cell_type": "code",
   "execution_count": 33,
   "metadata": {
    "collapsed": false
   },
   "outputs": [
    {
     "name": "stdout",
     "output_type": "stream",
     "text": [
      "Confusion Matrix\n",
      "[[8349    2]\n",
      " [ 515  134]]\n",
      "\n",
      "Classification Report\n",
      "             precision    recall  f1-score   support\n",
      "\n",
      "          1       0.94      1.00      0.97      8351\n",
      "          0       0.99      0.21      0.34       649\n",
      "\n",
      "avg / total       0.95      0.94      0.92      9000\n",
      "\n"
     ]
    }
   ],
   "source": [
    "print(\"Confusion Matrix\")\n",
    "print(metrics.confusion_matrix(y_test, lr_cv_predict_test, labels = [1, 0]))\n",
    "print(\"\")\n",
    "\n",
    "print(\"Classification Report\")\n",
    "print(metrics.classification_report(y_test, lr_cv_predict_test, labels = [1, 0]))"
   ]
  }
 ],
 "metadata": {
  "kernelspec": {
   "display_name": "Python 3",
   "language": "python",
   "name": "python3"
  },
  "language_info": {
   "codemirror_mode": {
    "name": "ipython",
    "version": 3
   },
   "file_extension": ".py",
   "mimetype": "text/x-python",
   "name": "python",
   "nbconvert_exporter": "python",
   "pygments_lexer": "ipython3",
   "version": "3.6.0"
  }
 },
 "nbformat": 4,
 "nbformat_minor": 2
}
